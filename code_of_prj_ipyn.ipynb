{
  "cells": [
    {
      "cell_type": "code",
      "execution_count": 92,
      "metadata": {
        "colab": {
          "base_uri": "https://localhost:8080/"
        },
        "id": "0SbIcJfC9xWI",
        "outputId": "aefac650-3f8d-44ed-d3cb-53741e7cc6a9"
      },
      "outputs": [
        {
          "output_type": "stream",
          "name": "stdout",
          "text": [
            "Drive already mounted at /content/drive; to attempt to forcibly remount, call drive.mount(\"/content/drive\", force_remount=True).\n"
          ]
        }
      ],
      "source": [
        "from google.colab import drive\n",
        "drive.mount('/content/drive')"
      ]
    },
    {
      "cell_type": "code",
      "execution_count": 93,
      "metadata": {
        "colab": {
          "base_uri": "https://localhost:8080/"
        },
        "id": "Nc79mzDB8luP",
        "outputId": "649918d2-c83e-4b3c-9f5c-4de257d86371"
      },
      "outputs": [
        {
          "output_type": "stream",
          "name": "stdout",
          "text": [
            "Requirement already satisfied: ipdb in /usr/local/lib/python3.10/dist-packages (0.13.13)\n",
            "Requirement already satisfied: ipython>=7.31.1 in /usr/local/lib/python3.10/dist-packages (from ipdb) (7.34.0)\n",
            "Requirement already satisfied: tomli in /usr/local/lib/python3.10/dist-packages (from ipdb) (2.0.1)\n",
            "Requirement already satisfied: decorator in /usr/local/lib/python3.10/dist-packages (from ipdb) (4.4.2)\n",
            "Requirement already satisfied: setuptools>=18.5 in /usr/local/lib/python3.10/dist-packages (from ipython>=7.31.1->ipdb) (67.7.2)\n",
            "Requirement already satisfied: jedi>=0.16 in /usr/local/lib/python3.10/dist-packages (from ipython>=7.31.1->ipdb) (0.19.1)\n",
            "Requirement already satisfied: pickleshare in /usr/local/lib/python3.10/dist-packages (from ipython>=7.31.1->ipdb) (0.7.5)\n",
            "Requirement already satisfied: traitlets>=4.2 in /usr/local/lib/python3.10/dist-packages (from ipython>=7.31.1->ipdb) (5.7.1)\n",
            "Requirement already satisfied: prompt-toolkit!=3.0.0,!=3.0.1,<3.1.0,>=2.0.0 in /usr/local/lib/python3.10/dist-packages (from ipython>=7.31.1->ipdb) (3.0.43)\n",
            "Requirement already satisfied: pygments in /usr/local/lib/python3.10/dist-packages (from ipython>=7.31.1->ipdb) (2.16.1)\n",
            "Requirement already satisfied: backcall in /usr/local/lib/python3.10/dist-packages (from ipython>=7.31.1->ipdb) (0.2.0)\n",
            "Requirement already satisfied: matplotlib-inline in /usr/local/lib/python3.10/dist-packages (from ipython>=7.31.1->ipdb) (0.1.6)\n",
            "Requirement already satisfied: pexpect>4.3 in /usr/local/lib/python3.10/dist-packages (from ipython>=7.31.1->ipdb) (4.9.0)\n",
            "Requirement already satisfied: parso<0.9.0,>=0.8.3 in /usr/local/lib/python3.10/dist-packages (from jedi>=0.16->ipython>=7.31.1->ipdb) (0.8.3)\n",
            "Requirement already satisfied: ptyprocess>=0.5 in /usr/local/lib/python3.10/dist-packages (from pexpect>4.3->ipython>=7.31.1->ipdb) (0.7.0)\n",
            "Requirement already satisfied: wcwidth in /usr/local/lib/python3.10/dist-packages (from prompt-toolkit!=3.0.0,!=3.0.1,<3.1.0,>=2.0.0->ipython>=7.31.1->ipdb) (0.2.12)\n"
          ]
        }
      ],
      "source": [
        "!pip install ipdb"
      ]
    },
    {
      "cell_type": "code",
      "execution_count": 94,
      "metadata": {
        "id": "WGdtLuXFJrcH",
        "colab": {
          "base_uri": "https://localhost:8080/"
        },
        "outputId": "80d4ab2f-c6f9-4a5a-e8e1-35e44121c837"
      },
      "outputs": [
        {
          "output_type": "stream",
          "name": "stdout",
          "text": [
            "Requirement already satisfied: google.colab in /usr/local/lib/python3.10/dist-packages (1.0.0)\n",
            "Requirement already satisfied: google-auth==2.17.3 in /usr/local/lib/python3.10/dist-packages (from google.colab) (2.17.3)\n",
            "Requirement already satisfied: ipykernel==5.5.6 in /usr/local/lib/python3.10/dist-packages (from google.colab) (5.5.6)\n",
            "Requirement already satisfied: ipython==7.34.0 in /usr/local/lib/python3.10/dist-packages (from google.colab) (7.34.0)\n",
            "Requirement already satisfied: notebook==6.5.5 in /usr/local/lib/python3.10/dist-packages (from google.colab) (6.5.5)\n",
            "Requirement already satisfied: pandas==1.5.3 in /usr/local/lib/python3.10/dist-packages (from google.colab) (1.5.3)\n",
            "Requirement already satisfied: portpicker==1.5.2 in /usr/local/lib/python3.10/dist-packages (from google.colab) (1.5.2)\n",
            "Requirement already satisfied: requests==2.31.0 in /usr/local/lib/python3.10/dist-packages (from google.colab) (2.31.0)\n",
            "Requirement already satisfied: tornado==6.3.2 in /usr/local/lib/python3.10/dist-packages (from google.colab) (6.3.2)\n",
            "Requirement already satisfied: cachetools<6.0,>=2.0.0 in /usr/local/lib/python3.10/dist-packages (from google-auth==2.17.3->google.colab) (5.3.2)\n",
            "Requirement already satisfied: pyasn1-modules>=0.2.1 in /usr/local/lib/python3.10/dist-packages (from google-auth==2.17.3->google.colab) (0.3.0)\n",
            "Requirement already satisfied: six>=1.9.0 in /usr/local/lib/python3.10/dist-packages (from google-auth==2.17.3->google.colab) (1.16.0)\n",
            "Requirement already satisfied: rsa<5,>=3.1.4 in /usr/local/lib/python3.10/dist-packages (from google-auth==2.17.3->google.colab) (4.9)\n",
            "Requirement already satisfied: ipython-genutils in /usr/local/lib/python3.10/dist-packages (from ipykernel==5.5.6->google.colab) (0.2.0)\n",
            "Requirement already satisfied: traitlets>=4.1.0 in /usr/local/lib/python3.10/dist-packages (from ipykernel==5.5.6->google.colab) (5.7.1)\n",
            "Requirement already satisfied: jupyter-client in /usr/local/lib/python3.10/dist-packages (from ipykernel==5.5.6->google.colab) (6.1.12)\n",
            "Requirement already satisfied: setuptools>=18.5 in /usr/local/lib/python3.10/dist-packages (from ipython==7.34.0->google.colab) (67.7.2)\n",
            "Requirement already satisfied: jedi>=0.16 in /usr/local/lib/python3.10/dist-packages (from ipython==7.34.0->google.colab) (0.19.1)\n",
            "Requirement already satisfied: decorator in /usr/local/lib/python3.10/dist-packages (from ipython==7.34.0->google.colab) (4.4.2)\n",
            "Requirement already satisfied: pickleshare in /usr/local/lib/python3.10/dist-packages (from ipython==7.34.0->google.colab) (0.7.5)\n",
            "Requirement already satisfied: prompt-toolkit!=3.0.0,!=3.0.1,<3.1.0,>=2.0.0 in /usr/local/lib/python3.10/dist-packages (from ipython==7.34.0->google.colab) (3.0.43)\n",
            "Requirement already satisfied: pygments in /usr/local/lib/python3.10/dist-packages (from ipython==7.34.0->google.colab) (2.16.1)\n",
            "Requirement already satisfied: backcall in /usr/local/lib/python3.10/dist-packages (from ipython==7.34.0->google.colab) (0.2.0)\n",
            "Requirement already satisfied: matplotlib-inline in /usr/local/lib/python3.10/dist-packages (from ipython==7.34.0->google.colab) (0.1.6)\n",
            "Requirement already satisfied: pexpect>4.3 in /usr/local/lib/python3.10/dist-packages (from ipython==7.34.0->google.colab) (4.9.0)\n",
            "Requirement already satisfied: jinja2 in /usr/local/lib/python3.10/dist-packages (from notebook==6.5.5->google.colab) (3.1.2)\n",
            "Requirement already satisfied: pyzmq<25,>=17 in /usr/local/lib/python3.10/dist-packages (from notebook==6.5.5->google.colab) (23.2.1)\n",
            "Requirement already satisfied: argon2-cffi in /usr/local/lib/python3.10/dist-packages (from notebook==6.5.5->google.colab) (23.1.0)\n",
            "Requirement already satisfied: jupyter-core>=4.6.1 in /usr/local/lib/python3.10/dist-packages (from notebook==6.5.5->google.colab) (5.5.1)\n",
            "Requirement already satisfied: nbformat in /usr/local/lib/python3.10/dist-packages (from notebook==6.5.5->google.colab) (5.9.2)\n",
            "Requirement already satisfied: nbconvert>=5 in /usr/local/lib/python3.10/dist-packages (from notebook==6.5.5->google.colab) (6.5.4)\n",
            "Requirement already satisfied: nest-asyncio>=1.5 in /usr/local/lib/python3.10/dist-packages (from notebook==6.5.5->google.colab) (1.5.8)\n",
            "Requirement already satisfied: Send2Trash>=1.8.0 in /usr/local/lib/python3.10/dist-packages (from notebook==6.5.5->google.colab) (1.8.2)\n",
            "Requirement already satisfied: terminado>=0.8.3 in /usr/local/lib/python3.10/dist-packages (from notebook==6.5.5->google.colab) (0.18.0)\n",
            "Requirement already satisfied: prometheus-client in /usr/local/lib/python3.10/dist-packages (from notebook==6.5.5->google.colab) (0.19.0)\n",
            "Requirement already satisfied: nbclassic>=0.4.7 in /usr/local/lib/python3.10/dist-packages (from notebook==6.5.5->google.colab) (1.0.0)\n",
            "Requirement already satisfied: python-dateutil>=2.8.1 in /usr/local/lib/python3.10/dist-packages (from pandas==1.5.3->google.colab) (2.8.2)\n",
            "Requirement already satisfied: pytz>=2020.1 in /usr/local/lib/python3.10/dist-packages (from pandas==1.5.3->google.colab) (2023.3.post1)\n",
            "Requirement already satisfied: numpy>=1.21.0 in /usr/local/lib/python3.10/dist-packages (from pandas==1.5.3->google.colab) (1.23.5)\n",
            "Requirement already satisfied: psutil in /usr/local/lib/python3.10/dist-packages (from portpicker==1.5.2->google.colab) (5.9.5)\n",
            "Requirement already satisfied: charset-normalizer<4,>=2 in /usr/local/lib/python3.10/dist-packages (from requests==2.31.0->google.colab) (3.3.2)\n",
            "Requirement already satisfied: idna<4,>=2.5 in /usr/local/lib/python3.10/dist-packages (from requests==2.31.0->google.colab) (3.6)\n",
            "Requirement already satisfied: urllib3<3,>=1.21.1 in /usr/local/lib/python3.10/dist-packages (from requests==2.31.0->google.colab) (2.0.7)\n",
            "Requirement already satisfied: certifi>=2017.4.17 in /usr/local/lib/python3.10/dist-packages (from requests==2.31.0->google.colab) (2023.11.17)\n",
            "Requirement already satisfied: parso<0.9.0,>=0.8.3 in /usr/local/lib/python3.10/dist-packages (from jedi>=0.16->ipython==7.34.0->google.colab) (0.8.3)\n",
            "Requirement already satisfied: platformdirs>=2.5 in /usr/local/lib/python3.10/dist-packages (from jupyter-core>=4.6.1->notebook==6.5.5->google.colab) (4.1.0)\n",
            "Requirement already satisfied: jupyter-server>=1.8 in /usr/local/lib/python3.10/dist-packages (from nbclassic>=0.4.7->notebook==6.5.5->google.colab) (1.24.0)\n",
            "Requirement already satisfied: notebook-shim>=0.2.3 in /usr/local/lib/python3.10/dist-packages (from nbclassic>=0.4.7->notebook==6.5.5->google.colab) (0.2.3)\n",
            "Requirement already satisfied: lxml in /usr/local/lib/python3.10/dist-packages (from nbconvert>=5->notebook==6.5.5->google.colab) (4.9.3)\n",
            "Requirement already satisfied: beautifulsoup4 in /usr/local/lib/python3.10/dist-packages (from nbconvert>=5->notebook==6.5.5->google.colab) (4.11.2)\n",
            "Requirement already satisfied: bleach in /usr/local/lib/python3.10/dist-packages (from nbconvert>=5->notebook==6.5.5->google.colab) (6.1.0)\n",
            "Requirement already satisfied: defusedxml in /usr/local/lib/python3.10/dist-packages (from nbconvert>=5->notebook==6.5.5->google.colab) (0.7.1)\n",
            "Requirement already satisfied: entrypoints>=0.2.2 in /usr/local/lib/python3.10/dist-packages (from nbconvert>=5->notebook==6.5.5->google.colab) (0.4)\n",
            "Requirement already satisfied: jupyterlab-pygments in /usr/local/lib/python3.10/dist-packages (from nbconvert>=5->notebook==6.5.5->google.colab) (0.3.0)\n",
            "Requirement already satisfied: MarkupSafe>=2.0 in /usr/local/lib/python3.10/dist-packages (from nbconvert>=5->notebook==6.5.5->google.colab) (2.1.3)\n",
            "Requirement already satisfied: mistune<2,>=0.8.1 in /usr/local/lib/python3.10/dist-packages (from nbconvert>=5->notebook==6.5.5->google.colab) (0.8.4)\n",
            "Requirement already satisfied: nbclient>=0.5.0 in /usr/local/lib/python3.10/dist-packages (from nbconvert>=5->notebook==6.5.5->google.colab) (0.9.0)\n",
            "Requirement already satisfied: packaging in /usr/local/lib/python3.10/dist-packages (from nbconvert>=5->notebook==6.5.5->google.colab) (23.2)\n",
            "Requirement already satisfied: pandocfilters>=1.4.1 in /usr/local/lib/python3.10/dist-packages (from nbconvert>=5->notebook==6.5.5->google.colab) (1.5.0)\n",
            "Requirement already satisfied: tinycss2 in /usr/local/lib/python3.10/dist-packages (from nbconvert>=5->notebook==6.5.5->google.colab) (1.2.1)\n",
            "Requirement already satisfied: fastjsonschema in /usr/local/lib/python3.10/dist-packages (from nbformat->notebook==6.5.5->google.colab) (2.19.0)\n",
            "Requirement already satisfied: jsonschema>=2.6 in /usr/local/lib/python3.10/dist-packages (from nbformat->notebook==6.5.5->google.colab) (4.19.2)\n",
            "Requirement already satisfied: ptyprocess>=0.5 in /usr/local/lib/python3.10/dist-packages (from pexpect>4.3->ipython==7.34.0->google.colab) (0.7.0)\n",
            "Requirement already satisfied: wcwidth in /usr/local/lib/python3.10/dist-packages (from prompt-toolkit!=3.0.0,!=3.0.1,<3.1.0,>=2.0.0->ipython==7.34.0->google.colab) (0.2.12)\n",
            "Requirement already satisfied: pyasn1<0.6.0,>=0.4.6 in /usr/local/lib/python3.10/dist-packages (from pyasn1-modules>=0.2.1->google-auth==2.17.3->google.colab) (0.5.1)\n",
            "Requirement already satisfied: argon2-cffi-bindings in /usr/local/lib/python3.10/dist-packages (from argon2-cffi->notebook==6.5.5->google.colab) (21.2.0)\n",
            "Requirement already satisfied: attrs>=22.2.0 in /usr/local/lib/python3.10/dist-packages (from jsonschema>=2.6->nbformat->notebook==6.5.5->google.colab) (23.1.0)\n",
            "Requirement already satisfied: jsonschema-specifications>=2023.03.6 in /usr/local/lib/python3.10/dist-packages (from jsonschema>=2.6->nbformat->notebook==6.5.5->google.colab) (2023.11.2)\n",
            "Requirement already satisfied: referencing>=0.28.4 in /usr/local/lib/python3.10/dist-packages (from jsonschema>=2.6->nbformat->notebook==6.5.5->google.colab) (0.32.0)\n",
            "Requirement already satisfied: rpds-py>=0.7.1 in /usr/local/lib/python3.10/dist-packages (from jsonschema>=2.6->nbformat->notebook==6.5.5->google.colab) (0.15.2)\n",
            "Requirement already satisfied: anyio<4,>=3.1.0 in /usr/local/lib/python3.10/dist-packages (from jupyter-server>=1.8->nbclassic>=0.4.7->notebook==6.5.5->google.colab) (3.7.1)\n",
            "Requirement already satisfied: websocket-client in /usr/local/lib/python3.10/dist-packages (from jupyter-server>=1.8->nbclassic>=0.4.7->notebook==6.5.5->google.colab) (1.7.0)\n",
            "Requirement already satisfied: cffi>=1.0.1 in /usr/local/lib/python3.10/dist-packages (from argon2-cffi-bindings->argon2-cffi->notebook==6.5.5->google.colab) (1.16.0)\n",
            "Requirement already satisfied: soupsieve>1.2 in /usr/local/lib/python3.10/dist-packages (from beautifulsoup4->nbconvert>=5->notebook==6.5.5->google.colab) (2.5)\n",
            "Requirement already satisfied: webencodings in /usr/local/lib/python3.10/dist-packages (from bleach->nbconvert>=5->notebook==6.5.5->google.colab) (0.5.1)\n",
            "Requirement already satisfied: sniffio>=1.1 in /usr/local/lib/python3.10/dist-packages (from anyio<4,>=3.1.0->jupyter-server>=1.8->nbclassic>=0.4.7->notebook==6.5.5->google.colab) (1.3.0)\n",
            "Requirement already satisfied: exceptiongroup in /usr/local/lib/python3.10/dist-packages (from anyio<4,>=3.1.0->jupyter-server>=1.8->nbclassic>=0.4.7->notebook==6.5.5->google.colab) (1.2.0)\n",
            "Requirement already satisfied: pycparser in /usr/local/lib/python3.10/dist-packages (from cffi>=1.0.1->argon2-cffi-bindings->argon2-cffi->notebook==6.5.5->google.colab) (2.21)\n"
          ]
        }
      ],
      "source": [
        "!pip install google.colab"
      ]
    },
    {
      "cell_type": "code",
      "execution_count": 95,
      "metadata": {
        "id": "-o3Om4Ad-gNo"
      },
      "outputs": [],
      "source": [
        "import cv2\n",
        "import pickle\n",
        "import numpy as np\n",
        "from google.colab.patches import cv2_imshow\n",
        "from PIL import Image as PIimg"
      ]
    },
    {
      "cell_type": "code",
      "execution_count": 96,
      "metadata": {
        "id": "Xb5Hm_xdQJZk"
      },
      "outputs": [],
      "source": [
        "from skimage.util import random_noise\n",
        "import numpy as np\n",
        "import matplotlib.pyplot as plt\n",
        "\n",
        "from skimage import io, metrics\n",
        "\n",
        "import statistics"
      ]
    },
    {
      "cell_type": "code",
      "execution_count": 97,
      "metadata": {
        "id": "9K2PbyIg78C-"
      },
      "outputs": [],
      "source": [
        "#print image (use for test clustering image)\n",
        "def image_show(imgSh):\n",
        "    cv2_imshow(imgSh)\n",
        "    cv2.waitKey(0)\n",
        "    cv2.destroyAllWindows()"
      ]
    },
    {
      "cell_type": "code",
      "execution_count": 98,
      "metadata": {
        "colab": {
          "base_uri": "https://localhost:8080/"
        },
        "id": "LQqfyzy_81TN",
        "outputId": "15641a14-31d0-4772-8d0e-c9ded58e9172"
      },
      "outputs": [
        {
          "output_type": "stream",
          "name": "stdout",
          "text": [
            "Automatic pdb calling has been turned ON\n"
          ]
        }
      ],
      "source": [
        "%pdb on"
      ]
    },
    {
      "cell_type": "markdown",
      "metadata": {
        "id": "noySzOfs7Syt"
      },
      "source": [
        "quality metrics"
      ]
    },
    {
      "cell_type": "code",
      "execution_count": 99,
      "metadata": {
        "id": "ZIrXzRBd7STA"
      },
      "outputs": [],
      "source": [
        "def psnr(original_image, distorted_image):\n",
        "  psnr_value = metrics.peak_signal_noise_ratio(original_image, distorted_image)\n",
        "  return psnr_value\n",
        "def ssim(original_image, distorted_image):\n",
        "  ssim_value = metrics.structural_similarity(original_image, distorted_image, multichannel=True)\n",
        "  return ssim_value"
      ]
    },
    {
      "cell_type": "markdown",
      "metadata": {
        "id": "IjaE-M2DT57c"
      },
      "source": [
        "plot data"
      ]
    },
    {
      "cell_type": "code",
      "execution_count": 100,
      "metadata": {
        "id": "i1gfywJ6T7hp"
      },
      "outputs": [],
      "source": [
        "def plotSubplotData(avr_N_ga,avr_N_ga1,avr_N_ga2,avr_N_ga3 , avr_M_ga,avr_M_ga1,avr_M_ga2,avr_M_ga3 ,avr_R_ga,avr_R_ga1,avr_R_ga2,avr_R_ga3):\n",
        "  figs,acs=plt.subplots(1,3,figsize=(30,10 ))\n",
        "\n",
        "  x_data=[num for num in range(len(avr_N_ga)+1) if num != 0]\n",
        "  acs[0].plot(x_data,avr_N_ga)\n",
        "  acs[0].plot(x_data,avr_N_ga1)\n",
        "  acs[0].plot(x_data,avr_N_ga2)\n",
        "  acs[0].plot(x_data,avr_N_ga3)\n",
        "\n",
        "  x_data=[num for num in range(len(avr_M_ga)+1) if num != 0]\n",
        "  acs[1].plot(x_data,avr_M_ga)\n",
        "  acs[1].plot(x_data,avr_M_ga1)\n",
        "  acs[1].plot(x_data,avr_M_ga2)\n",
        "  acs[1].plot(x_data,avr_M_ga3)\n",
        "\n",
        "  x_data=[num for num in range(len(avr_R_ga)+1) if num != 0]\n",
        "  acs[2].plot(x_data,avr_R_ga)\n",
        "  acs[2].plot(x_data,avr_R_ga1)\n",
        "  acs[2].plot(x_data,avr_R_ga2)\n",
        "  acs[2].plot(x_data,avr_R_ga3)\n",
        "\n",
        "\n",
        "  print(max(avr_N_ga))\n",
        "  print(max(avr_N_ga1))\n",
        "  print(max(avr_N_ga2))\n",
        "  print(max(avr_N_ga3))\n",
        "  print(x_data[avr_N_ga.index(max(avr_N_ga))])\n",
        "  print(x_data[avr_N_ga1.index(max(avr_N_ga1))])\n",
        "  print(x_data[avr_N_ga2.index(max(avr_N_ga2))])\n",
        "  print(x_data[avr_N_ga3.index(max(avr_N_ga3))])\n",
        "\n",
        "  print(max(avr_M_ga))\n",
        "  print(max(avr_M_ga1))\n",
        "  print(max(avr_M_ga2))\n",
        "  print(max(avr_M_ga3))\n",
        "  print(x_data[avr_M_ga.index(max(avr_M_ga))])\n",
        "  print(x_data[avr_M_ga1.index(max(avr_M_ga1))])\n",
        "  print(x_data[avr_M_ga2.index(max(avr_M_ga2))])\n",
        "  print(x_data[avr_M_ga3.index(max(avr_M_ga3))])\n",
        "\n",
        "  print(max(avr_R_ga))\n",
        "  print(max(avr_R_ga1))\n",
        "  print(max(avr_R_ga2))\n",
        "  print(max(avr_R_ga3))\n",
        "  print(x_data[avr_R_ga.index(max(avr_R_ga))])\n",
        "  print(x_data[avr_R_ga1.index(max(avr_R_ga1))])\n",
        "  print(x_data[avr_R_ga2.index(max(avr_R_ga2))])\n",
        "  print(x_data[avr_R_ga3.index(max(avr_R_ga3))])\n",
        "\n",
        "  # acs[0][2].plot(x_data,avr_R_ga)\n",
        "  # acs[0][2].plot(x_data,avr_R_ga1)\n",
        "  # acs[0][2].plot(x_data,avr_R_ga2)\n",
        "  # acs[0][2].plot(x_data,avr_R_ga3)\n",
        "  plt.show()"
      ]
    },
    {
      "cell_type": "markdown",
      "metadata": {
        "id": "DTVo2kJ1CYQE"
      },
      "source": [
        "def public msooth filters(median,gausi,avrg,bilitera)"
      ]
    },
    {
      "cell_type": "markdown",
      "metadata": {
        "id": "TCvq2qHSDCcY"
      },
      "source": [
        "median"
      ]
    },
    {
      "cell_type": "code",
      "execution_count": 101,
      "metadata": {
        "id": "rn2wY1WiMx_B"
      },
      "outputs": [],
      "source": [
        "def apply_median_cal_ssim_psnr(img,noisyImg,fpar):\n",
        "    nres=np.uint8(noisyImg*255)\n",
        "    blurImg=cv2.medianBlur(nres, fpar)\n",
        "    return ssim(img,blurImg) , psnr(img,blurImg)\n"
      ]
    },
    {
      "cell_type": "code",
      "execution_count": 102,
      "metadata": {
        "id": "ZpcchLal8Ym0"
      },
      "outputs": [],
      "source": [
        "def apply_median_cal_ssim(img,noisyImg,fpar):\n",
        "    nres=np.uint8(noisyImg*255)\n",
        "    blurImg=cv2.medianBlur(nres, fpar)\n",
        "    return ssim(img,blurImg)"
      ]
    },
    {
      "cell_type": "code",
      "execution_count": 103,
      "metadata": {
        "id": "Xq0JpBsA77Lc"
      },
      "outputs": [],
      "source": [
        "def apply_median_public(imgSet,noisySet,noisySet1,noisySet2,noisySet3):\n",
        "  ssim_all_N=[]\n",
        "  ssim1_all_N=[]\n",
        "  ssim2_all_N=[]\n",
        "  ssim3_all_N=[]\n",
        "  ssim_all_N_ind=[]\n",
        "  ssim1_all_N_ind=[]\n",
        "  ssim2_all_N_ind=[]\n",
        "  ssim3_all_N_ind=[]\n",
        "    #median with par =5\n",
        "  avr_N=[]\n",
        "  avr1_N=[]\n",
        "  avr2_N=[]\n",
        "  avr3_N=[]\n",
        "  stdev_N=[]\n",
        "  stdev1_N=[]\n",
        "  stdev2_N=[]\n",
        "  stdev3_N=[]\n",
        "  for i in range (1,30,2):\n",
        "    ssim_N=[]\n",
        "    ssim1_N=[]\n",
        "    ssim2_N=[]\n",
        "    ssim3_N=[]\n",
        "    for k in range(len(noisySet)):\n",
        "      ssim_N.append(apply_median_cal_ssim(imgSet[k],noisySet[k],i))\n",
        "      ssim1_N.append(apply_median_cal_ssim(imgSet[k],noisySet1[k],i))\n",
        "      ssim2_N.append(apply_median_cal_ssim(imgSet[k],noisySet2[k],i))\n",
        "      ssim3_N.append(apply_median_cal_ssim(imgSet[k],noisySet3[k],i))\n",
        "    avr_N.append(statistics.mean(ssim_N))\n",
        "    avr1_N.append(statistics.mean(ssim1_N))\n",
        "    avr2_N.append(statistics.mean(ssim2_N))\n",
        "    avr3_N.append(statistics.mean(ssim3_N))\n",
        "\n",
        "    stdev_N.append(statistics.stdev(ssim_N))\n",
        "    stdev1_N.append(statistics.stdev(ssim1_N))\n",
        "    stdev2_N.append(statistics.stdev(ssim2_N))\n",
        "    stdev3_N.append(statistics.stdev(ssim3_N))\n",
        "\n",
        "    print(i)\n",
        "  return avr_N,avr1_N,avr2_N,avr3_N,stdev_N,stdev1_N,stdev2_N,stdev3_N"
      ]
    },
    {
      "cell_type": "markdown",
      "metadata": {
        "id": "_BoM5odTC_yP"
      },
      "source": [
        "guasian"
      ]
    },
    {
      "cell_type": "code",
      "execution_count": 104,
      "metadata": {
        "id": "8cXpOc1vKiEJ"
      },
      "outputs": [],
      "source": [
        "def apply_gaus_cal_ssim(img,noisyImg,fpar,sigm):\n",
        "    blurImg=cv2.GaussianBlur(noisyImg,ksize=fpar,sigmaX=sigm)\n",
        "    return ssim(img,blurImg)\n"
      ]
    },
    {
      "cell_type": "code",
      "execution_count": 105,
      "metadata": {
        "id": "YuuhJ3yVEwcf"
      },
      "outputs": [],
      "source": [
        "def apply_gau_public(imgSet,noisySet,noisySet1,noisySet2,noisySet3):\n",
        "  ssim_all_N=[]\n",
        "  ssim1_all_N=[]\n",
        "  ssim2_all_N=[]\n",
        "  ssim3_all_N=[]\n",
        "  ssim_all_N_ind=[]\n",
        "  ssim1_all_N_ind=[]\n",
        "  ssim2_all_N_ind=[]\n",
        "  ssim3_all_N_ind=[]\n",
        "    #median with par =5\n",
        "  avr_N=[]\n",
        "  avr1_N=[]\n",
        "  avr2_N=[]\n",
        "  avr3_N=[]\n",
        "  stdev_N=[]\n",
        "  stdev1_N=[]\n",
        "  stdev2_N=[]\n",
        "  stdev3_N=[]\n",
        "  for i in range (1,30,2):\n",
        "    j=1.5\n",
        "    flag=True\n",
        "    for j in np.arange(1.5,3.5,0.5):\n",
        "      ssim_N=[]\n",
        "      ssim1_N=[]\n",
        "      ssim2_N=[]\n",
        "      ssim3_N=[]\n",
        "      for k in range(len(noisySet)):\n",
        "        ssim_N.append(apply_gaus_cal_ssim(imgSet[k],noisySet[k],[i,i],j))\n",
        "        ssim1_N.append(apply_gaus_cal_ssim(imgSet[k],noisySet1[k],[i,i],j))\n",
        "        ssim2_N.append(apply_gaus_cal_ssim(imgSet[k],noisySet2[k],[i,i],j))\n",
        "        ssim3_N.append(apply_gaus_cal_ssim(imgSet[k],noisySet3[k],[i,i],j))\n",
        "      avr_N.append(statistics.mean(ssim_N))\n",
        "      avr1_N.append(statistics.mean(ssim1_N))\n",
        "      avr2_N.append(statistics.mean(ssim2_N))\n",
        "      avr3_N.append(statistics.mean(ssim3_N))\n",
        "      stdev_N.append(statistics.stdev(ssim_N))\n",
        "      stdev1_N.append(statistics.stdev(ssim1_N))\n",
        "      stdev2_N.append(statistics.stdev(ssim2_N))\n",
        "      stdev3_N.append(statistics.stdev(ssim3_N))\n",
        "\n",
        "    print(i)\n",
        "  return avr_N,avr1_N,avr2_N,avr3_N,stdev_N,stdev1_N,stdev2_N,stdev3_N\n"
      ]
    },
    {
      "cell_type": "markdown",
      "metadata": {
        "id": "1RyauzYSDR1s"
      },
      "source": [
        "avrg"
      ]
    },
    {
      "cell_type": "code",
      "execution_count": 106,
      "metadata": {
        "id": "lIpki_gfyaiG"
      },
      "outputs": [],
      "source": [
        "def apply_avr_cal_ssim(img,noisyImg,kernel_size):\n",
        "    kernel = np.ones((kernel_size, kernel_size), np.float32) / (kernel_size * kernel_size)\n",
        "    # Apply the average filter using the filter2D function\n",
        "    blurImg= cv2.filter2D(noisyImg, -1, kernel)\n",
        "    return ssim(img,blurImg)\n"
      ]
    },
    {
      "cell_type": "code",
      "execution_count": 107,
      "metadata": {
        "id": "y4F9giPpFV-2"
      },
      "outputs": [],
      "source": [
        "def apply_mean_public(imgSet,noisySet,noisySet1,noisySet2,noisySet3):\n",
        "  ssim_all_N=[]\n",
        "  ssim1_all_N=[]\n",
        "  ssim2_all_N=[]\n",
        "  ssim3_all_N=[]\n",
        "  ssim_all_N_ind=[]\n",
        "  ssim1_all_N_ind=[]\n",
        "  ssim2_all_N_ind=[]\n",
        "  ssim3_all_N_ind=[]\n",
        "    #median with par =5\n",
        "  avr_N=[]\n",
        "  avr1_N=[]\n",
        "  avr2_N=[]\n",
        "  avr3_N=[]\n",
        "  stdev_N=[]\n",
        "  stdev1_N=[]\n",
        "  stdev2_N=[]\n",
        "  stdev3_N=[]\n",
        "  for i in range (1,30,2):\n",
        "    ssim_N=[]\n",
        "    ssim1_N=[]\n",
        "    ssim2_N=[]\n",
        "    ssim3_N=[]\n",
        "    for k in range(len(noisySet)):\n",
        "      ssim_N.append(apply_avr_cal_ssim(imgSet[k],noisySet[k],i))\n",
        "      ssim1_N.append(apply_avr_cal_ssim(imgSet[k],noisySet1[k],i))\n",
        "      ssim2_N.append(apply_avr_cal_ssim(imgSet[k],noisySet2[k],i))\n",
        "      ssim3_N.append(apply_avr_cal_ssim(imgSet[k],noisySet3[k],i))\n",
        "    avr_N.append(statistics.mean(ssim_N))\n",
        "    avr1_N.append(statistics.mean(ssim1_N))\n",
        "    avr2_N.append(statistics.mean(ssim2_N))\n",
        "    avr3_N.append(statistics.mean(ssim3_N))\n",
        "\n",
        "    stdev_N.append(statistics.stdev(ssim_N))\n",
        "    stdev1_N.append(statistics.stdev(ssim1_N))\n",
        "    stdev2_N.append(statistics.stdev(ssim2_N))\n",
        "    stdev3_N.append(statistics.stdev(ssim3_N))\n",
        "\n",
        "    print(i)\n",
        "  return avr_N,avr1_N,avr2_N,avr3_N,stdev_N,stdev1_N,stdev2_N,stdev3_N"
      ]
    },
    {
      "cell_type": "markdown",
      "metadata": {
        "id": "24hIzvGED8OQ"
      },
      "source": [
        "biliteral"
      ]
    },
    {
      "cell_type": "code",
      "execution_count": 108,
      "metadata": {
        "id": "EOSd5iSts7q3"
      },
      "outputs": [],
      "source": [
        "def apply_bilt_cal_ssim(img,noisy,a,sigmcol,sigmspc):\n",
        "    noisy_8u = cv2.convertScaleAbs(noisy)\n",
        "\n",
        "    # Apply bilateral filter to the converted image\n",
        "    blurImg = cv2.bilateralFilter(noisy_8u, d=a, sigmaColor=sigmcol, sigmaSpace=sigmspc)\n",
        "\n",
        "    # Calculate SSIM between the original and filtered images\n",
        "    return ssim(img, blurImg)\n"
      ]
    },
    {
      "cell_type": "code",
      "execution_count": 109,
      "metadata": {
        "id": "BKtD_bUXoc_Y"
      },
      "outputs": [],
      "source": [
        "def apply_bilt_public(imgSet,noisySet,noisySet1,noisySet2,noisySet3):\n",
        "  ssim_all_N=[]\n",
        "  ssim1_all_N=[]\n",
        "  ssim2_all_N=[]\n",
        "  ssim3_all_N=[]\n",
        "  ssim_all_N_ind=[]\n",
        "  ssim1_all_N_ind=[]\n",
        "  ssim2_all_N_ind=[]\n",
        "  ssim3_all_N_ind=[]\n",
        "    #median with par =5\n",
        "  avr_N=[]\n",
        "  avr1_N=[]\n",
        "  avr2_N=[]\n",
        "  avr3_N=[]\n",
        "  stdev_N=[]\n",
        "  stdev1_N=[]\n",
        "  stdev2_N=[]\n",
        "  stdev3_N=[]\n",
        "  for i in range (3,11,2):#d\n",
        "    for j in np.arange(50,100,10):#scol , spc\n",
        "      ssim_N=[]\n",
        "      ssim1_N=[]\n",
        "      ssim2_N=[]\n",
        "      ssim3_N=[]\n",
        "      for k in range(len(noisySet)):\n",
        "        if(k==3):\n",
        "          ssim_N.append(0)\n",
        "          ssim1_N.append(0)\n",
        "          ssim2_N.append(0)\n",
        "          ssim3_N.append(0)\n",
        "          break\n",
        "        ssim_N.append(apply_bilt_cal_ssim(imgSet[k],noisySet[k],i,j,j))\n",
        "        ssim1_N.append(apply_bilt_cal_ssim(imgSet[k],noisySet1[k],i,j,j))\n",
        "        ssim2_N.append(apply_bilt_cal_ssim(imgSet[k],noisySet2[k],i,j,j))\n",
        "        ssim3_N.append(apply_bilt_cal_ssim(imgSet[k],noisySet3[k],i,j,j))\n",
        "        #print(\"k\")\n",
        "        #print(k)\n",
        "      avr_N.append(statistics.mean(ssim_N))\n",
        "      avr1_N.append(statistics.mean(ssim1_N))\n",
        "      avr2_N.append(statistics.mean(ssim2_N))\n",
        "      avr3_N.append(statistics.mean(ssim3_N))\n",
        "      stdev_N.append(statistics.stdev(ssim_N))\n",
        "      stdev1_N.append(statistics.stdev(ssim1_N))\n",
        "      stdev2_N.append(statistics.stdev(ssim2_N))\n",
        "      stdev3_N.append(statistics.stdev(ssim3_N))\n",
        "      #print(\"j\")\n",
        "      #print(j)\n",
        "    #print(\"i\")\n",
        "    print(i)\n",
        "  return avr_N,avr1_N,avr2_N,avr3_N , stdev_N,stdev1_N,stdev2_N,stdev3_N"
      ]
    },
    {
      "cell_type": "markdown",
      "metadata": {
        "id": "cHrbcwkSyhmq"
      },
      "source": [
        "تابع اپلای کردن نویز نمک و فلفل"
      ]
    },
    {
      "cell_type": "code",
      "execution_count": 110,
      "metadata": {
        "id": "AHgcEj0Q41lb"
      },
      "outputs": [],
      "source": [
        "def add_salt_pepper_noise(image2, noise_density):\n",
        "    image=image2.copy()\n",
        "    height, width = image.shape[:2]\n",
        "    num_noise_pixels = int(noise_density * height * width)\n",
        "\n",
        "    # Generate random coordinates for noise pixels\n",
        "    noise_coords = np.random.randint(0, min(height, width), size=(num_noise_pixels, 2))\n",
        "\n",
        "    # Apply salt and pepper noise\n",
        "    for coord in noise_coords:\n",
        "        x, y = coord\n",
        "        if np.random.random() < 0.5:\n",
        "            image[x, y] = 0  # Salt noise (black pixel)\n",
        "        else:\n",
        "            image[x, y] = 255  # Pepper noise (white pixel)\n",
        "\n",
        "    return image\n"
      ]
    },
    {
      "cell_type": "markdown",
      "metadata": {
        "id": "yBCyHxrXzpmh"
      },
      "source": [
        "نحوه پلات عکس"
      ]
    },
    {
      "cell_type": "code",
      "execution_count": 111,
      "metadata": {
        "colab": {
          "base_uri": "https://localhost:8080/",
          "height": 53
        },
        "id": "ufZQFmbkzIDo",
        "outputId": "e685cd73-8816-43ca-ca9f-49727e69ec6f"
      },
      "outputs": [
        {
          "output_type": "execute_result",
          "data": {
            "text/plain": [
              "'\\ndef plotImage(imageplt):\\n    plt.imshow(image1)\\n    plt.show()\\n\\n\\n# Plot the original, blurred and Laplacian filtered image\\nplotImage(image1)\\nplotImage(lap_img1)\\nplotImage(lap_gu_img1)\\n'"
            ],
            "application/vnd.google.colaboratory.intrinsic+json": {
              "type": "string"
            }
          },
          "metadata": {},
          "execution_count": 111
        }
      ],
      "source": [
        "# import cv2\n",
        "# import matplotlib.pyplot as plt\n",
        "\n",
        "# # Load the image\n",
        "# path = \"Lena.bmp\"\n",
        "# image1 = plt.imread(path)\n",
        "\n",
        "# # Apply Laplacian filter on the  image\n",
        "# lap_img1 = cv2.Laplacian(image1, cv2.CV_64F)\n",
        "\n",
        "# # Convert the result back to uint8\n",
        "# lap_img1 = cv2.convertScaleAbs(lap_img1)\n",
        "\n",
        "# # Apply Gaussian blur with kernel size of 5x5 and sigma value of 0\n",
        "# lap_gu_img1 = cv2.GaussianBlur(lap_img1, (5, 5), 0)\n",
        "\n",
        "# figs,access=plt.subplots(1,3)\n",
        "# access[0].imshow(image1)\n",
        "# access[0].set_title(\"original image\")\n",
        "# access[1].imshow(lap_img1)\n",
        "# access[1].set_title(\"laplasian image\")\n",
        "# access[2].imshow(lap_gu_img1)\n",
        "# access[2].set_title(\"result image \")\n",
        "# # Display the original, blurred and Laplacian filtered image\n",
        "# plt.show()\n",
        "\n",
        "\n",
        "\n",
        "\"\"\"\n",
        "def plotImage(imageplt):\n",
        "    plt.imshow(image1)\n",
        "    plt.show()\n",
        "\n",
        "\n",
        "# Plot the original, blurred and Laplacian filtered image\n",
        "plotImage(image1)\n",
        "plotImage(lap_img1)\n",
        "plotImage(lap_gu_img1)\n",
        "\"\"\""
      ]
    },
    {
      "cell_type": "code",
      "execution_count": 112,
      "metadata": {
        "id": "-l3iyIxpAsXa"
      },
      "outputs": [],
      "source": [
        "def load_dataset(pathfol,n,passvand):\n",
        "  images=[]\n",
        "  for i in range(1,n+1):\n",
        "    img=plt.imread(pathfol+'/'+str(i)+passvand)\n",
        "    images.append(img)\n",
        "\n",
        "  print(\"open image file successfully!!\")\n",
        "\n",
        "  return images\n"
      ]
    },
    {
      "cell_type": "markdown",
      "metadata": {
        "id": "BMc9OMMKxeQa"
      },
      "source": [
        "لود عکس ها از دیتاست به تفکیک انواع"
      ]
    },
    {
      "cell_type": "code",
      "execution_count": 113,
      "metadata": {
        "colab": {
          "base_uri": "https://localhost:8080/"
        },
        "id": "O9xO3GCV2dmI",
        "outputId": "15bb429d-4af6-4635-91c4-a95501d4ee87"
      },
      "outputs": [
        {
          "output_type": "stream",
          "name": "stdout",
          "text": [
            "open image file successfully!!\n",
            "open image file successfully!!\n",
            "open image file successfully!!\n"
          ]
        }
      ],
      "source": [
        "##apply salt and pepper noise\n",
        "MSet=load_dataset('/content/drive/MyDrive/cv_prj/prj Img/DS/Med',24,'.png')\n",
        "NSet=load_dataset('/content/drive/MyDrive/cv_prj/prj Img/DS/Normal',15,'.bmp')\n",
        "RSet=load_dataset('/content/drive/MyDrive/cv_prj/prj Img/DS/RS',15,'.png')"
      ]
    },
    {
      "cell_type": "markdown",
      "metadata": {
        "id": "mek38xtA0Jfy"
      },
      "source": [
        "اپلای نویز نمک و فلفل بر تمام  عکس ها"
      ]
    },
    {
      "cell_type": "code",
      "execution_count": 114,
      "metadata": {
        "id": "9ereg6duOCGV"
      },
      "outputs": [],
      "source": [
        "NSetsp=[]\n",
        "for i in range (len(NSet)):\n",
        "  NSetsp.append(random_noise(NSet[i], mode='s&p', amount=0.05))\n",
        "MSetsp=[]\n",
        "for i in range (len(MSet)):\n",
        "  MSetsp.append(random_noise(MSet[i], mode='s&p', amount=0.05))\n",
        "RSetsp=[]\n",
        "for i in range (len(RSet)):\n",
        "  RSetsp.append(random_noise(RSet[i], mode='s&p', amount=0.05))"
      ]
    },
    {
      "cell_type": "code",
      "execution_count": 115,
      "metadata": {
        "id": "pqsbTGDv8zNy"
      },
      "outputs": [],
      "source": [
        "NSetsp1=[]\n",
        "for i in range (len(NSet)):\n",
        "  NSetsp1.append(random_noise(NSet[i], mode='s&p', amount=0.1))\n",
        "MSetsp1=[]\n",
        "for i in range (len(MSet)):\n",
        "  MSetsp1.append(random_noise(MSet[i], mode='s&p', amount=0.1))\n",
        "RSetsp1=[]\n",
        "for i in range (len(RSet)):\n",
        "  RSetsp1.append(random_noise(RSet[i], mode='s&p', amount=0.1))"
      ]
    },
    {
      "cell_type": "code",
      "execution_count": 116,
      "metadata": {
        "id": "j8mu9Xko8_B5"
      },
      "outputs": [],
      "source": [
        "NSetsp2=[]\n",
        "for i in range (len(NSet)):\n",
        "  NSetsp2.append(random_noise(NSet[i], mode='s&p', amount=0.2))\n",
        "MSetsp2=[]\n",
        "for i in range (len(MSet)):\n",
        "  MSetsp2.append(random_noise(MSet[i], mode='s&p', amount=0.2))\n",
        "RSetsp2=[]\n",
        "for i in range (len(RSet)):\n",
        "  RSetsp2.append(random_noise(RSet[i], mode='s&p', amount=0.2))"
      ]
    },
    {
      "cell_type": "code",
      "execution_count": 117,
      "metadata": {
        "id": "ircIiNum9GP-"
      },
      "outputs": [],
      "source": [
        "NSetsp3=[]\n",
        "for i in range (len(NSet)):\n",
        "  NSetsp3.append(random_noise(NSet[i], mode='s&p', amount=0.4))\n",
        "MSetsp3=[]\n",
        "for i in range (len(MSet)):\n",
        "  MSetsp3.append(random_noise(MSet[i], mode='s&p', amount=0.4))\n",
        "RSetsp3=[]\n",
        "for i in range (len(RSet)):\n",
        "  RSetsp3.append(random_noise(RSet[i], mode='s&p', amount=0.4))"
      ]
    },
    {
      "cell_type": "markdown",
      "metadata": {
        "id": "boL-yi7NEMDC"
      },
      "source": [
        "apply filter on sp"
      ]
    },
    {
      "cell_type": "markdown",
      "metadata": {
        "id": "XGqcvWK8ORNo"
      },
      "source": [
        "median"
      ]
    },
    {
      "cell_type": "code",
      "execution_count": 118,
      "metadata": {
        "colab": {
          "base_uri": "https://localhost:8080/",
          "height": 776
        },
        "id": "Xs86KdIYVIUF",
        "outputId": "4b334544-4b84-4847-8698-86e9579d0daf"
      },
      "outputs": [
        {
          "output_type": "stream",
          "name": "stderr",
          "text": [
            "<ipython-input-99-e62a6992a43b>:5: FutureWarning: `multichannel` is a deprecated argument name for `structural_similarity`. It will be removed in version 1.0. Please use `channel_axis` instead.\n",
            "  ssim_value = metrics.structural_similarity(original_image, distorted_image, multichannel=True)\n"
          ]
        },
        {
          "output_type": "stream",
          "name": "stdout",
          "text": [
            "1\n",
            "3\n",
            "5\n",
            "7\n",
            "9\n"
          ]
        },
        {
          "output_type": "error",
          "ename": "KeyboardInterrupt",
          "evalue": "ignored",
          "traceback": [
            "\u001b[0;31m---------------------------------------------------------------------------\u001b[0m",
            "\u001b[0;31mKeyboardInterrupt\u001b[0m                         Traceback (most recent call last)",
            "\u001b[0;32m<ipython-input-118-9a866f8c2b7f>\u001b[0m in \u001b[0;36m<cell line: 1>\u001b[0;34m()\u001b[0m\n\u001b[0;32m----> 1\u001b[0;31m \u001b[0mavr_N_sp_median\u001b[0m\u001b[0;34m,\u001b[0m\u001b[0mavr_N_sp_median1\u001b[0m\u001b[0;34m,\u001b[0m\u001b[0mavr_N_sp_median2\u001b[0m\u001b[0;34m,\u001b[0m\u001b[0mavr_N_sp_median3\u001b[0m\u001b[0;34m,\u001b[0m\u001b[0mstdev_N_sp_median\u001b[0m\u001b[0;34m,\u001b[0m\u001b[0mstdev_N_sp_median1\u001b[0m\u001b[0;34m,\u001b[0m\u001b[0mstdev_N_sp_median2\u001b[0m\u001b[0;34m,\u001b[0m\u001b[0mstdev_N_sp_median3\u001b[0m\u001b[0;34m=\u001b[0m\u001b[0mapply_median_public\u001b[0m\u001b[0;34m(\u001b[0m\u001b[0mNSet\u001b[0m\u001b[0;34m,\u001b[0m\u001b[0mNSetsp\u001b[0m\u001b[0;34m,\u001b[0m\u001b[0mNSetsp1\u001b[0m\u001b[0;34m,\u001b[0m\u001b[0mNSetsp2\u001b[0m\u001b[0;34m,\u001b[0m\u001b[0mNSetsp3\u001b[0m\u001b[0;34m)\u001b[0m\u001b[0;34m\u001b[0m\u001b[0;34m\u001b[0m\u001b[0m\n\u001b[0m\u001b[1;32m      2\u001b[0m \u001b[0;34m\u001b[0m\u001b[0m\n\u001b[1;32m      3\u001b[0m \u001b[0mavr_M_sp_median\u001b[0m\u001b[0;34m,\u001b[0m\u001b[0mavr_M_sp_median1\u001b[0m\u001b[0;34m,\u001b[0m\u001b[0mavr_M_sp_median2\u001b[0m\u001b[0;34m,\u001b[0m\u001b[0mavr_M_sp_median3\u001b[0m\u001b[0;34m,\u001b[0m\u001b[0mstdev_M_sp_median\u001b[0m\u001b[0;34m,\u001b[0m\u001b[0mstdev_M_sp_median1\u001b[0m\u001b[0;34m,\u001b[0m\u001b[0mstdev_M_sp_median2\u001b[0m\u001b[0;34m,\u001b[0m\u001b[0mstdev_M_sp_median3\u001b[0m\u001b[0;34m=\u001b[0m\u001b[0mapply_median_public\u001b[0m\u001b[0;34m(\u001b[0m\u001b[0mMSet\u001b[0m\u001b[0;34m,\u001b[0m\u001b[0mMSetsp\u001b[0m\u001b[0;34m,\u001b[0m\u001b[0mMSetsp1\u001b[0m\u001b[0;34m,\u001b[0m\u001b[0mMSetsp2\u001b[0m\u001b[0;34m,\u001b[0m\u001b[0mMSetsp3\u001b[0m\u001b[0;34m)\u001b[0m\u001b[0;34m\u001b[0m\u001b[0;34m\u001b[0m\u001b[0m\n\u001b[1;32m      4\u001b[0m \u001b[0;34m\u001b[0m\u001b[0m\n\u001b[1;32m      5\u001b[0m \u001b[0mavr_R_sp_median\u001b[0m\u001b[0;34m,\u001b[0m\u001b[0mavr_R_sp_median1\u001b[0m\u001b[0;34m,\u001b[0m\u001b[0mavr_R_sp_median2\u001b[0m\u001b[0;34m,\u001b[0m\u001b[0mavr_R_sp_median3\u001b[0m\u001b[0;34m,\u001b[0m\u001b[0mstdev_R_sp_median\u001b[0m\u001b[0;34m,\u001b[0m\u001b[0mstdev_R_sp_median1\u001b[0m\u001b[0;34m,\u001b[0m\u001b[0mstdev_R_sp_median2\u001b[0m\u001b[0;34m,\u001b[0m\u001b[0mstdev_R_sp_median3\u001b[0m\u001b[0;34m=\u001b[0m\u001b[0mapply_median_public\u001b[0m\u001b[0;34m(\u001b[0m\u001b[0mRSet\u001b[0m\u001b[0;34m,\u001b[0m\u001b[0mRSetsp\u001b[0m\u001b[0;34m,\u001b[0m\u001b[0mRSetsp1\u001b[0m\u001b[0;34m,\u001b[0m\u001b[0mRSetsp2\u001b[0m\u001b[0;34m,\u001b[0m\u001b[0mRSetsp3\u001b[0m\u001b[0;34m)\u001b[0m\u001b[0;34m\u001b[0m\u001b[0;34m\u001b[0m\u001b[0m\n",
            "\u001b[0;32m<ipython-input-103-9213043a94bd>\u001b[0m in \u001b[0;36mapply_median_public\u001b[0;34m(imgSet, noisySet, noisySet1, noisySet2, noisySet3)\u001b[0m\n\u001b[1;32m     24\u001b[0m     \u001b[0;32mfor\u001b[0m \u001b[0mk\u001b[0m \u001b[0;32min\u001b[0m \u001b[0mrange\u001b[0m\u001b[0;34m(\u001b[0m\u001b[0mlen\u001b[0m\u001b[0;34m(\u001b[0m\u001b[0mnoisySet\u001b[0m\u001b[0;34m)\u001b[0m\u001b[0;34m)\u001b[0m\u001b[0;34m:\u001b[0m\u001b[0;34m\u001b[0m\u001b[0;34m\u001b[0m\u001b[0m\n\u001b[1;32m     25\u001b[0m       \u001b[0mssim_N\u001b[0m\u001b[0;34m.\u001b[0m\u001b[0mappend\u001b[0m\u001b[0;34m(\u001b[0m\u001b[0mapply_median_cal_ssim\u001b[0m\u001b[0;34m(\u001b[0m\u001b[0mimgSet\u001b[0m\u001b[0;34m[\u001b[0m\u001b[0mk\u001b[0m\u001b[0;34m]\u001b[0m\u001b[0;34m,\u001b[0m\u001b[0mnoisySet\u001b[0m\u001b[0;34m[\u001b[0m\u001b[0mk\u001b[0m\u001b[0;34m]\u001b[0m\u001b[0;34m,\u001b[0m\u001b[0mi\u001b[0m\u001b[0;34m)\u001b[0m\u001b[0;34m)\u001b[0m\u001b[0;34m\u001b[0m\u001b[0;34m\u001b[0m\u001b[0m\n\u001b[0;32m---> 26\u001b[0;31m       \u001b[0mssim1_N\u001b[0m\u001b[0;34m.\u001b[0m\u001b[0mappend\u001b[0m\u001b[0;34m(\u001b[0m\u001b[0mapply_median_cal_ssim\u001b[0m\u001b[0;34m(\u001b[0m\u001b[0mimgSet\u001b[0m\u001b[0;34m[\u001b[0m\u001b[0mk\u001b[0m\u001b[0;34m]\u001b[0m\u001b[0;34m,\u001b[0m\u001b[0mnoisySet1\u001b[0m\u001b[0;34m[\u001b[0m\u001b[0mk\u001b[0m\u001b[0;34m]\u001b[0m\u001b[0;34m,\u001b[0m\u001b[0mi\u001b[0m\u001b[0;34m)\u001b[0m\u001b[0;34m)\u001b[0m\u001b[0;34m\u001b[0m\u001b[0;34m\u001b[0m\u001b[0m\n\u001b[0m\u001b[1;32m     27\u001b[0m       \u001b[0mssim2_N\u001b[0m\u001b[0;34m.\u001b[0m\u001b[0mappend\u001b[0m\u001b[0;34m(\u001b[0m\u001b[0mapply_median_cal_ssim\u001b[0m\u001b[0;34m(\u001b[0m\u001b[0mimgSet\u001b[0m\u001b[0;34m[\u001b[0m\u001b[0mk\u001b[0m\u001b[0;34m]\u001b[0m\u001b[0;34m,\u001b[0m\u001b[0mnoisySet2\u001b[0m\u001b[0;34m[\u001b[0m\u001b[0mk\u001b[0m\u001b[0;34m]\u001b[0m\u001b[0;34m,\u001b[0m\u001b[0mi\u001b[0m\u001b[0;34m)\u001b[0m\u001b[0;34m)\u001b[0m\u001b[0;34m\u001b[0m\u001b[0;34m\u001b[0m\u001b[0m\n\u001b[1;32m     28\u001b[0m       \u001b[0mssim3_N\u001b[0m\u001b[0;34m.\u001b[0m\u001b[0mappend\u001b[0m\u001b[0;34m(\u001b[0m\u001b[0mapply_median_cal_ssim\u001b[0m\u001b[0;34m(\u001b[0m\u001b[0mimgSet\u001b[0m\u001b[0;34m[\u001b[0m\u001b[0mk\u001b[0m\u001b[0;34m]\u001b[0m\u001b[0;34m,\u001b[0m\u001b[0mnoisySet3\u001b[0m\u001b[0;34m[\u001b[0m\u001b[0mk\u001b[0m\u001b[0;34m]\u001b[0m\u001b[0;34m,\u001b[0m\u001b[0mi\u001b[0m\u001b[0;34m)\u001b[0m\u001b[0;34m)\u001b[0m\u001b[0;34m\u001b[0m\u001b[0;34m\u001b[0m\u001b[0m\n",
            "\u001b[0;32m<ipython-input-102-6b535750fd33>\u001b[0m in \u001b[0;36mapply_median_cal_ssim\u001b[0;34m(img, noisyImg, fpar)\u001b[0m\n\u001b[1;32m      2\u001b[0m     \u001b[0mnres\u001b[0m\u001b[0;34m=\u001b[0m\u001b[0mnp\u001b[0m\u001b[0;34m.\u001b[0m\u001b[0muint8\u001b[0m\u001b[0;34m(\u001b[0m\u001b[0mnoisyImg\u001b[0m\u001b[0;34m*\u001b[0m\u001b[0;36m255\u001b[0m\u001b[0;34m)\u001b[0m\u001b[0;34m\u001b[0m\u001b[0;34m\u001b[0m\u001b[0m\n\u001b[1;32m      3\u001b[0m     \u001b[0mblurImg\u001b[0m\u001b[0;34m=\u001b[0m\u001b[0mcv2\u001b[0m\u001b[0;34m.\u001b[0m\u001b[0mmedianBlur\u001b[0m\u001b[0;34m(\u001b[0m\u001b[0mnres\u001b[0m\u001b[0;34m,\u001b[0m \u001b[0mfpar\u001b[0m\u001b[0;34m)\u001b[0m\u001b[0;34m\u001b[0m\u001b[0;34m\u001b[0m\u001b[0m\n\u001b[0;32m----> 4\u001b[0;31m     \u001b[0;32mreturn\u001b[0m \u001b[0mssim\u001b[0m\u001b[0;34m(\u001b[0m\u001b[0mimg\u001b[0m\u001b[0;34m,\u001b[0m\u001b[0mblurImg\u001b[0m\u001b[0;34m)\u001b[0m\u001b[0;34m\u001b[0m\u001b[0;34m\u001b[0m\u001b[0m\n\u001b[0m",
            "\u001b[0;32m<ipython-input-99-e62a6992a43b>\u001b[0m in \u001b[0;36mssim\u001b[0;34m(original_image, distorted_image)\u001b[0m\n\u001b[1;32m      3\u001b[0m   \u001b[0;32mreturn\u001b[0m \u001b[0mpsnr_value\u001b[0m\u001b[0;34m\u001b[0m\u001b[0;34m\u001b[0m\u001b[0m\n\u001b[1;32m      4\u001b[0m \u001b[0;32mdef\u001b[0m \u001b[0mssim\u001b[0m\u001b[0;34m(\u001b[0m\u001b[0moriginal_image\u001b[0m\u001b[0;34m,\u001b[0m \u001b[0mdistorted_image\u001b[0m\u001b[0;34m)\u001b[0m\u001b[0;34m:\u001b[0m\u001b[0;34m\u001b[0m\u001b[0;34m\u001b[0m\u001b[0m\n\u001b[0;32m----> 5\u001b[0;31m   \u001b[0mssim_value\u001b[0m \u001b[0;34m=\u001b[0m \u001b[0mmetrics\u001b[0m\u001b[0;34m.\u001b[0m\u001b[0mstructural_similarity\u001b[0m\u001b[0;34m(\u001b[0m\u001b[0moriginal_image\u001b[0m\u001b[0;34m,\u001b[0m \u001b[0mdistorted_image\u001b[0m\u001b[0;34m,\u001b[0m \u001b[0mmultichannel\u001b[0m\u001b[0;34m=\u001b[0m\u001b[0;32mTrue\u001b[0m\u001b[0;34m)\u001b[0m\u001b[0;34m\u001b[0m\u001b[0;34m\u001b[0m\u001b[0m\n\u001b[0m\u001b[1;32m      6\u001b[0m   \u001b[0;32mreturn\u001b[0m \u001b[0mssim_value\u001b[0m\u001b[0;34m\u001b[0m\u001b[0;34m\u001b[0m\u001b[0m\n",
            "\u001b[0;32m/usr/local/lib/python3.10/dist-packages/skimage/_shared/utils.py\u001b[0m in \u001b[0;36mfixed_func\u001b[0;34m(*args, **kwargs)\u001b[0m\n\u001b[1;32m    346\u001b[0m \u001b[0;34m\u001b[0m\u001b[0m\n\u001b[1;32m    347\u001b[0m             \u001b[0;31m# Call the function with the fixed arguments\u001b[0m\u001b[0;34m\u001b[0m\u001b[0;34m\u001b[0m\u001b[0m\n\u001b[0;32m--> 348\u001b[0;31m             \u001b[0;32mreturn\u001b[0m \u001b[0mfunc\u001b[0m\u001b[0;34m(\u001b[0m\u001b[0;34m*\u001b[0m\u001b[0margs\u001b[0m\u001b[0;34m,\u001b[0m \u001b[0;34m**\u001b[0m\u001b[0mkwargs\u001b[0m\u001b[0;34m)\u001b[0m\u001b[0;34m\u001b[0m\u001b[0;34m\u001b[0m\u001b[0m\n\u001b[0m\u001b[1;32m    349\u001b[0m \u001b[0;34m\u001b[0m\u001b[0m\n\u001b[1;32m    350\u001b[0m         \u001b[0;32mif\u001b[0m \u001b[0mfunc\u001b[0m\u001b[0;34m.\u001b[0m\u001b[0m__doc__\u001b[0m \u001b[0;32mis\u001b[0m \u001b[0;32mnot\u001b[0m \u001b[0;32mNone\u001b[0m\u001b[0;34m:\u001b[0m\u001b[0;34m\u001b[0m\u001b[0;34m\u001b[0m\u001b[0m\n",
            "\u001b[0;32m/usr/local/lib/python3.10/dist-packages/skimage/metrics/_structural_similarity.py\u001b[0m in \u001b[0;36mstructural_similarity\u001b[0;34m(im1, im2, win_size, gradient, data_range, channel_axis, multichannel, gaussian_weights, full, **kwargs)\u001b[0m\n\u001b[1;32m    121\u001b[0m         \u001b[0m_at\u001b[0m \u001b[0;34m=\u001b[0m \u001b[0mfunctools\u001b[0m\u001b[0;34m.\u001b[0m\u001b[0mpartial\u001b[0m\u001b[0;34m(\u001b[0m\u001b[0mutils\u001b[0m\u001b[0;34m.\u001b[0m\u001b[0mslice_at_axis\u001b[0m\u001b[0;34m,\u001b[0m \u001b[0maxis\u001b[0m\u001b[0;34m=\u001b[0m\u001b[0mchannel_axis\u001b[0m\u001b[0;34m)\u001b[0m\u001b[0;34m\u001b[0m\u001b[0;34m\u001b[0m\u001b[0m\n\u001b[1;32m    122\u001b[0m         \u001b[0;32mfor\u001b[0m \u001b[0mch\u001b[0m \u001b[0;32min\u001b[0m \u001b[0mrange\u001b[0m\u001b[0;34m(\u001b[0m\u001b[0mnch\u001b[0m\u001b[0;34m)\u001b[0m\u001b[0;34m:\u001b[0m\u001b[0;34m\u001b[0m\u001b[0;34m\u001b[0m\u001b[0m\n\u001b[0;32m--> 123\u001b[0;31m             ch_result = structural_similarity(im1[_at(ch)],\n\u001b[0m\u001b[1;32m    124\u001b[0m                                               im2[_at(ch)], **args)\n\u001b[1;32m    125\u001b[0m             \u001b[0;32mif\u001b[0m \u001b[0mgradient\u001b[0m \u001b[0;32mand\u001b[0m \u001b[0mfull\u001b[0m\u001b[0;34m:\u001b[0m\u001b[0;34m\u001b[0m\u001b[0;34m\u001b[0m\u001b[0m\n",
            "\u001b[0;32m/usr/local/lib/python3.10/dist-packages/skimage/_shared/utils.py\u001b[0m in \u001b[0;36mfixed_func\u001b[0;34m(*args, **kwargs)\u001b[0m\n\u001b[1;32m    346\u001b[0m \u001b[0;34m\u001b[0m\u001b[0m\n\u001b[1;32m    347\u001b[0m             \u001b[0;31m# Call the function with the fixed arguments\u001b[0m\u001b[0;34m\u001b[0m\u001b[0;34m\u001b[0m\u001b[0m\n\u001b[0;32m--> 348\u001b[0;31m             \u001b[0;32mreturn\u001b[0m \u001b[0mfunc\u001b[0m\u001b[0;34m(\u001b[0m\u001b[0;34m*\u001b[0m\u001b[0margs\u001b[0m\u001b[0;34m,\u001b[0m \u001b[0;34m**\u001b[0m\u001b[0mkwargs\u001b[0m\u001b[0;34m)\u001b[0m\u001b[0;34m\u001b[0m\u001b[0;34m\u001b[0m\u001b[0m\n\u001b[0m\u001b[1;32m    349\u001b[0m \u001b[0;34m\u001b[0m\u001b[0m\n\u001b[1;32m    350\u001b[0m         \u001b[0;32mif\u001b[0m \u001b[0mfunc\u001b[0m\u001b[0;34m.\u001b[0m\u001b[0m__doc__\u001b[0m \u001b[0;32mis\u001b[0m \u001b[0;32mnot\u001b[0m \u001b[0;32mNone\u001b[0m\u001b[0;34m:\u001b[0m\u001b[0;34m\u001b[0m\u001b[0;34m\u001b[0m\u001b[0m\n",
            "\u001b[0;32m/usr/local/lib/python3.10/dist-packages/skimage/metrics/_structural_similarity.py\u001b[0m in \u001b[0;36mstructural_similarity\u001b[0;34m(im1, im2, win_size, gradient, data_range, channel_axis, multichannel, gaussian_weights, full, **kwargs)\u001b[0m\n\u001b[1;32m    212\u001b[0m \u001b[0;34m\u001b[0m\u001b[0m\n\u001b[1;32m    213\u001b[0m     \u001b[0;31m# compute (weighted) variances and covariances\u001b[0m\u001b[0;34m\u001b[0m\u001b[0;34m\u001b[0m\u001b[0m\n\u001b[0;32m--> 214\u001b[0;31m     \u001b[0muxx\u001b[0m \u001b[0;34m=\u001b[0m \u001b[0mfilter_func\u001b[0m\u001b[0;34m(\u001b[0m\u001b[0mim1\u001b[0m \u001b[0;34m*\u001b[0m \u001b[0mim1\u001b[0m\u001b[0;34m,\u001b[0m \u001b[0;34m**\u001b[0m\u001b[0mfilter_args\u001b[0m\u001b[0;34m)\u001b[0m\u001b[0;34m\u001b[0m\u001b[0;34m\u001b[0m\u001b[0m\n\u001b[0m\u001b[1;32m    215\u001b[0m     \u001b[0muyy\u001b[0m \u001b[0;34m=\u001b[0m \u001b[0mfilter_func\u001b[0m\u001b[0;34m(\u001b[0m\u001b[0mim2\u001b[0m \u001b[0;34m*\u001b[0m \u001b[0mim2\u001b[0m\u001b[0;34m,\u001b[0m \u001b[0;34m**\u001b[0m\u001b[0mfilter_args\u001b[0m\u001b[0;34m)\u001b[0m\u001b[0;34m\u001b[0m\u001b[0;34m\u001b[0m\u001b[0m\n\u001b[1;32m    216\u001b[0m     \u001b[0muxy\u001b[0m \u001b[0;34m=\u001b[0m \u001b[0mfilter_func\u001b[0m\u001b[0;34m(\u001b[0m\u001b[0mim1\u001b[0m \u001b[0;34m*\u001b[0m \u001b[0mim2\u001b[0m\u001b[0;34m,\u001b[0m \u001b[0;34m**\u001b[0m\u001b[0mfilter_args\u001b[0m\u001b[0;34m)\u001b[0m\u001b[0;34m\u001b[0m\u001b[0;34m\u001b[0m\u001b[0m\n",
            "\u001b[0;32m/usr/local/lib/python3.10/dist-packages/scipy/ndimage/_filters.py\u001b[0m in \u001b[0;36muniform_filter\u001b[0;34m(input, size, output, mode, cval, origin, axes)\u001b[0m\n\u001b[1;32m   1027\u001b[0m     \u001b[0;32mif\u001b[0m \u001b[0mlen\u001b[0m\u001b[0;34m(\u001b[0m\u001b[0maxes\u001b[0m\u001b[0;34m)\u001b[0m \u001b[0;34m>\u001b[0m \u001b[0;36m0\u001b[0m\u001b[0;34m:\u001b[0m\u001b[0;34m\u001b[0m\u001b[0;34m\u001b[0m\u001b[0m\n\u001b[1;32m   1028\u001b[0m         \u001b[0;32mfor\u001b[0m \u001b[0maxis\u001b[0m\u001b[0;34m,\u001b[0m \u001b[0msize\u001b[0m\u001b[0;34m,\u001b[0m \u001b[0morigin\u001b[0m\u001b[0;34m,\u001b[0m \u001b[0mmode\u001b[0m \u001b[0;32min\u001b[0m \u001b[0maxes\u001b[0m\u001b[0;34m:\u001b[0m\u001b[0;34m\u001b[0m\u001b[0;34m\u001b[0m\u001b[0m\n\u001b[0;32m-> 1029\u001b[0;31m             uniform_filter1d(input, int(size), axis, output, mode,\n\u001b[0m\u001b[1;32m   1030\u001b[0m                              cval, origin)\n\u001b[1;32m   1031\u001b[0m             \u001b[0minput\u001b[0m \u001b[0;34m=\u001b[0m \u001b[0moutput\u001b[0m\u001b[0;34m\u001b[0m\u001b[0;34m\u001b[0m\u001b[0m\n",
            "\u001b[0;32m/usr/local/lib/python3.10/dist-packages/scipy/ndimage/_filters.py\u001b[0m in \u001b[0;36muniform_filter1d\u001b[0;34m(input, size, axis, output, mode, cval, origin)\u001b[0m\n\u001b[1;32m    955\u001b[0m     \u001b[0mmode\u001b[0m \u001b[0;34m=\u001b[0m \u001b[0m_ni_support\u001b[0m\u001b[0;34m.\u001b[0m\u001b[0m_extend_mode_to_code\u001b[0m\u001b[0;34m(\u001b[0m\u001b[0mmode\u001b[0m\u001b[0;34m)\u001b[0m\u001b[0;34m\u001b[0m\u001b[0;34m\u001b[0m\u001b[0m\n\u001b[1;32m    956\u001b[0m     \u001b[0;32mif\u001b[0m \u001b[0;32mnot\u001b[0m \u001b[0mcomplex_output\u001b[0m\u001b[0;34m:\u001b[0m\u001b[0;34m\u001b[0m\u001b[0;34m\u001b[0m\u001b[0m\n\u001b[0;32m--> 957\u001b[0;31m         _nd_image.uniform_filter1d(input, size, axis, output, mode, cval,\n\u001b[0m\u001b[1;32m    958\u001b[0m                                    origin)\n\u001b[1;32m    959\u001b[0m     \u001b[0;32melse\u001b[0m\u001b[0;34m:\u001b[0m\u001b[0;34m\u001b[0m\u001b[0;34m\u001b[0m\u001b[0m\n",
            "\u001b[0;31mKeyboardInterrupt\u001b[0m: "
          ]
        },
        {
          "output_type": "stream",
          "name": "stdout",
          "text": [
            "> \u001b[0;32m/usr/local/lib/python3.10/dist-packages/scipy/ndimage/_filters.py\u001b[0m(957)\u001b[0;36muniform_filter1d\u001b[0;34m()\u001b[0m\n",
            "\u001b[0;32m    955 \u001b[0;31m    \u001b[0mmode\u001b[0m \u001b[0;34m=\u001b[0m \u001b[0m_ni_support\u001b[0m\u001b[0;34m.\u001b[0m\u001b[0m_extend_mode_to_code\u001b[0m\u001b[0;34m(\u001b[0m\u001b[0mmode\u001b[0m\u001b[0;34m)\u001b[0m\u001b[0;34m\u001b[0m\u001b[0;34m\u001b[0m\u001b[0m\n",
            "\u001b[0m\u001b[0;32m    956 \u001b[0;31m    \u001b[0;32mif\u001b[0m \u001b[0;32mnot\u001b[0m \u001b[0mcomplex_output\u001b[0m\u001b[0;34m:\u001b[0m\u001b[0;34m\u001b[0m\u001b[0;34m\u001b[0m\u001b[0m\n",
            "\u001b[0m\u001b[0;32m--> 957 \u001b[0;31m        _nd_image.uniform_filter1d(input, size, axis, output, mode, cval,\n",
            "\u001b[0m\u001b[0;32m    958 \u001b[0;31m                                   origin)\n",
            "\u001b[0m\u001b[0;32m    959 \u001b[0;31m    \u001b[0;32melse\u001b[0m\u001b[0;34m:\u001b[0m\u001b[0;34m\u001b[0m\u001b[0;34m\u001b[0m\u001b[0m\n",
            "\u001b[0m\n",
            "--KeyboardInterrupt--\n",
            "\n",
            "KeyboardInterrupt: Interrupted by user\n"
          ]
        }
      ],
      "source": [
        "avr_N_sp_median,avr_N_sp_median1,avr_N_sp_median2,avr_N_sp_median3,stdev_N_sp_median,stdev_N_sp_median1,stdev_N_sp_median2,stdev_N_sp_median3=apply_median_public(NSet,NSetsp,NSetsp1,NSetsp2,NSetsp3)\n",
        "\n",
        "avr_M_sp_median,avr_M_sp_median1,avr_M_sp_median2,avr_M_sp_median3,stdev_M_sp_median,stdev_M_sp_median1,stdev_M_sp_median2,stdev_M_sp_median3=apply_median_public(MSet,MSetsp,MSetsp1,MSetsp2,MSetsp3)\n",
        "\n",
        "avr_R_sp_median,avr_R_sp_median1,avr_R_sp_median2,avr_R_sp_median3,stdev_R_sp_median,stdev_R_sp_median1,stdev_R_sp_median2,stdev_R_sp_median3=apply_median_public(RSet,RSetsp,RSetsp1,RSetsp2,RSetsp3)\n",
        "\n",
        "plotSubplotData(avr_N_sp_median,avr_N_sp_median1,avr_N_sp_median2,avr_N_sp_median3,avr_M_sp_median,avr_M_sp_median1,avr_M_sp_median2,avr_M_sp_median3,avr_R_sp_median,avr_R_sp_median1,avr_R_sp_median2,avr_R_sp_median3)\n",
        "\n"
      ]
    },
    {
      "cell_type": "markdown",
      "metadata": {
        "id": "DRJ032s8OTk6"
      },
      "source": [
        "gau"
      ]
    },
    {
      "cell_type": "code",
      "execution_count": null,
      "metadata": {
        "id": "cAhYDKaYOPTk"
      },
      "outputs": [],
      "source": [
        "avr_N_sp_gau,avr_N_sp_gau1,avr_N_sp_gau2,avr_N_sp_gau3,stdev_N_sp_gau,stdev_N_sp_gau1,stdev_N_sp_gau2,stdev_N_sp_gau3=apply_gau_public(NSet,NSetsp,NSetsp1,NSetsp2,NSetsp3)\n",
        "\n",
        "avr_M_sp_gau,avr_M_sp_gau1,avr_M_sp_gau2,avr_M_sp_gau3,stdev_M_sp_gau,stdev_M_sp_gau1,stdev_M_sp_gau2,stdev_M_sp_gau3=apply_gau_public(MSet,MSetsp,MSetsp1,MSetsp2,MSetsp3)\n",
        "\n",
        "avr_R_sp_gau,avr_R_sp_gau1,avr_R_sp_gau2,avr_R_sp_gau3,stdev_R_sp_gau,stdev_R_sp_gau1,stdev_R_sp_gau2,stdev_R_sp_gau3=apply_gau_public(RSet,RSetsp,RSetsp1,RSetsp2,RSetsp3)\n",
        "\n",
        "plotSubplotData(avr_N_sp_gau,avr_N_sp_gau1,avr_N_sp_gau2,avr_N_sp_gau3,avr_M_sp_gau,avr_M_sp_gau1,avr_M_sp_gau2,avr_M_sp_gau3,avr_R_sp_gau,avr_R_sp_gau1,avr_R_sp_gau2,avr_R_sp_gau3)\n"
      ]
    },
    {
      "cell_type": "markdown",
      "metadata": {
        "id": "2GT2ntMsOXbS"
      },
      "source": [
        "avrg"
      ]
    },
    {
      "cell_type": "code",
      "execution_count": null,
      "metadata": {
        "id": "jbpdErmtOWeq"
      },
      "outputs": [],
      "source": [
        "\n",
        "avr_N_sp_mean,avr_N_sp_mean1,avr_N_sp_mean2,avr_N_sp_mean3,stdev_N_sp_mean,stdev_N_sp_mean1,stdev_N_sp_mean2,stdev_N_sp_mean3=apply_mean_public(NSet,NSetsp,NSetsp1,NSetsp2,NSetsp3)\n",
        "\n",
        "avr_M_sp_mean,avr_M_sp_mean1,avr_M_sp_mean2,avr_M_sp_mean3,stdev_M_sp_mean,stdev_M_sp_mean1,stdev_M_sp_mean2,stdev_M_sp_mean3=apply_mean_public(MSet,MSetsp,MSetsp1,MSetsp2,MSetsp3)\n",
        "\n",
        "avr_R_sp_mean,avr_R_sp_mean1,avr_R_sp_mean2,avr_R_sp_mean3,stdev_R_sp_mean,stdev_R_sp_mean1,stdev_R_sp_mean2,stdev_R_sp_mean3=apply_mean_public(RSet,RSetsp,RSetsp1,RSetsp2,RSetsp3)\n",
        "\n",
        "plotSubplotData(avr_N_sp_mean,avr_N_sp_mean1,avr_N_sp_mean2,avr_N_sp_mean3,avr_M_sp_mean,avr_M_sp_mean1,avr_M_sp_mean2,avr_M_sp_mean3,avr_R_sp_mean,avr_R_sp_mean1,avr_R_sp_mean2,avr_R_sp_mean3)\n",
        "\n",
        "\n"
      ]
    },
    {
      "cell_type": "markdown",
      "metadata": {
        "id": "vzzzLmxJOcjJ"
      },
      "source": [
        "bilit"
      ]
    },
    {
      "cell_type": "code",
      "execution_count": null,
      "metadata": {
        "id": "UdBFILZQObVc"
      },
      "outputs": [],
      "source": [
        "\n",
        "avr_N_sp_bilt,avr_N_sp_bilt1,avr_N_sp_bilt2,avr_N_sp_bilt3,stdev_N_sp_bilt,stdev_N_sp_bilt1,stdev_N_sp_bilt2,stdev_N_sp_bilt3=apply_bilt_public(NSet,NSetsp,NSetsp1,NSetsp2,NSetsp3)\n",
        "avr_M_sp_bilt,avr_M_sp_bilt1,avr_M_sp_bilt2,avr_M_sp_bilt3,stdev_M_sp_bilt,stdev_M_sp_bilt1,stdev_M_sp_bilt2,stdev_M_sp_bilt3=apply_bilt_public(MSet,MSetsp,MSetsp1,MSetsp2,MSetsp3)\n",
        "avr_R_sp_bilt,avr_R_sp_bilt1,avr_R_sp_bilt2,avr_R_sp_bilt3,stdev_R_sp_bilt,stdev_R_sp_bilt1,stdev_R_sp_bilt2,stdev_R_sp_bilt3=apply_bilt_public(RSet,RSetsp,RSetsp1,RSetsp2,RSetsp3)\n",
        "plotSubplotData(avr_N_sp_bilt,avr_N_sp_bilt1,avr_N_sp_bilt2,avr_N_sp_bilt3,avr_M_sp_bilt,avr_M_sp_bilt1,avr_M_sp_bilt2,avr_M_sp_bilt3,avr_R_sp_bilt,avr_R_sp_bilt1,avr_R_sp_bilt2,avr_R_sp_bilt3)\n",
        "\n",
        "\n"
      ]
    },
    {
      "cell_type": "markdown",
      "metadata": {
        "id": "BhFz_ABoRAgC"
      },
      "source": [
        "اپلای نویز spkl بر تمام عکس ها"
      ]
    },
    {
      "cell_type": "markdown",
      "metadata": {
        "id": "6tBNmmEFRMID"
      },
      "source": [
        "apply speakle noise on images"
      ]
    },
    {
      "cell_type": "code",
      "execution_count": null,
      "metadata": {
        "id": "KfSACSsqRMIS"
      },
      "outputs": [],
      "source": [
        "NSetspkl=[]\n",
        "NSetspkl1=[]\n",
        "NSetspkl2=[]\n",
        "NSetspkl3=[]\n",
        "for i in range (len(NSet)):\n",
        "  NSetspkl.append(random_noise(NSet[i], mode='speckle', var=0.0001))\n",
        "  NSetspkl1.append(random_noise(NSet[i], mode='speckle', var=0.0005))\n",
        "  NSetspkl2.append(random_noise(NSet[i], mode='speckle', var=0.001))\n",
        "  NSetspkl3.append(random_noise(NSet[i], mode='speckle', var=0.002))\n",
        "MSetspkl=[]\n",
        "MSetspkl1=[]\n",
        "MSetspkl2=[]\n",
        "MSetspkl3=[]\n",
        "for i in range (len(MSet)):\n",
        "  MSetspkl.append(random_noise(MSet[i], mode='speckle', var=0.0001))\n",
        "  MSetspkl1.append(random_noise(MSet[i], mode='speckle', var=0.0005))\n",
        "  MSetspkl2.append(random_noise(MSet[i], mode='speckle', var=0.001))\n",
        "  MSetspkl3.append(random_noise(MSet[i], mode='speckle', var=0.002))\n",
        "RSetspkl=[]\n",
        "RSetspkl1=[]\n",
        "RSetspkl2=[]\n",
        "RSetspkl3=[]\n",
        "for i in range (len(RSet)):\n",
        "  RSetspkl.append(random_noise(RSet[i], mode='speckle', var=0.0001))\n",
        "  RSetspkl1.append(random_noise(RSet[i], mode='speckle',var=0.0005))\n",
        "  RSetspkl2.append(random_noise(RSet[i], mode='speckle', var=0.001))\n",
        "  RSetspkl3.append(random_noise(RSet[i], mode='speckle', var=0.002))"
      ]
    },
    {
      "cell_type": "markdown",
      "metadata": {
        "id": "kt5vuipiSDDw"
      },
      "source": [
        "apply filter on spkl"
      ]
    },
    {
      "cell_type": "markdown",
      "metadata": {
        "id": "YRRuxWnUVz6m"
      },
      "source": [
        "median"
      ]
    },
    {
      "cell_type": "code",
      "execution_count": null,
      "metadata": {
        "id": "bJTNzuZWVz6n"
      },
      "outputs": [],
      "source": [
        "avr_N_spkl_median,avr_N_spkl_median1,avr_N_spkl_median2,avr_N_spkl_median3,stdev_N_spkl_median,stdev_N_spkl_median1,stdev_N_spkl_median2,stdev_N_spkl_median3=apply_median_public(NSet,NSetspkl,NSetspkl1,NSetspkl2,NSetspkl3)\n",
        "\n",
        "avr_M_spkl_median,avr_M_spkl_median1,avr_M_spkl_median2,avr_M_spkl_median3,stdev_M_spkl_median,stdev_M_spkl_median1,stdev_M_spkl_median2,stdev_M_spkl_median3=apply_median_public(MSet,MSetspkl,MSetspkl1,MSetspkl2,MSetspkl3)\n",
        "\n",
        "avr_R_spkl_median,avr_R_spkl_median1,avr_R_spkl_median2,avr_R_spkl_median3,stdev_R_spkl_median,stdev_R_spkl_median1,stdev_R_spkl_median2,stdev_R_spkl_median3=apply_median_public(RSet,RSetspkl,RSetspkl1,RSetspkl2,RSetspkl3)\n",
        "\n",
        "plotSubplotData(avr_N_spkl_median,avr_N_spkl_median1,avr_N_spkl_median2,avr_N_spkl_median3,avr_M_spkl_median,avr_M_spkl_median1,avr_M_spkl_median2,avr_M_spkl_median3,avr_R_spkl_median,avr_R_spkl_median1,avr_R_spkl_median2,avr_R_spkl_median3)\n"
      ]
    },
    {
      "cell_type": "markdown",
      "metadata": {
        "id": "O7DzD2iAVz6n"
      },
      "source": [
        "gau"
      ]
    },
    {
      "cell_type": "code",
      "execution_count": null,
      "metadata": {
        "id": "p6c7HPfPVz6o"
      },
      "outputs": [],
      "source": [
        "\n",
        "avr_N_spkl_gau,avr_N_spkl_gau1,avr_N_spkl_gau2,avr_N_spkl_gau3,stdev_N_spkl_gau,stdev_N_spkl_gau1,stdev_N_spkl_gau2,stdev_N_spkl_gau3=apply_gau_public(NSet,NSetspkl,NSetspkl1,NSetspkl2,NSetspkl3)\n",
        "\n",
        "avr_M_spkl_gau,avr_M_spkl_gau1,avr_M_spkl_gau2,avr_M_spkl_gau3,stdev_M_spkl_gau,stdev_M_spkl_gau1,stdev_M_spkl_gau2,stdev_M_spkl_gau3=apply_gau_public(MSet,MSetspkl,MSetspkl1,MSetspkl2,MSetspkl3)\n",
        "\n",
        "avr_R_spkl_gau,avr_R_spkl_gau1,avr_R_spkl_gau2,avr_R_spkl_gau3,stdev_R_spkl_gau,stdev_R_spkl_gau1,stdev_R_spkl_gau2,stdev_R_spkl_gau3=apply_gau_public(RSet,RSetspkl,RSetspkl1,RSetspkl2,RSetspkl3)\n",
        "\n",
        "plotSubplotData(avr_N_spkl_gau,avr_N_spkl_gau1,avr_N_spkl_gau2,avr_N_spkl_gau3,avr_M_spkl_gau,avr_M_spkl_gau1,avr_M_spkl_gau2,avr_M_spkl_gau3,avr_R_spkl_gau,avr_R_spkl_gau1,avr_R_spkl_gau2,avr_R_spkl_gau3)\n"
      ]
    },
    {
      "cell_type": "markdown",
      "metadata": {
        "id": "y-WML_IgVz6o"
      },
      "source": [
        "avrg"
      ]
    },
    {
      "cell_type": "code",
      "execution_count": null,
      "metadata": {
        "id": "RcmKsHueVz6o"
      },
      "outputs": [],
      "source": [
        "\n",
        "avr_N_spkl_mean,avr_N_spkl_mean1,avr_N_spkl_mean2,avr_N_spkl_mean3,stdev_N_spkl_mean,stdev_N_spkl_mean1,stdev_N_spkl_mean2,stdev_N_spkl_mean3=apply_mean_public(NSet,NSetspkl,NSetspkl1,NSetspkl2,NSetspkl3)\n",
        "\n",
        "avr_M_spkl_mean,avr_M_spkl_mean1,avr_M_spkl_mean2,avr_M_spkl_mean3,stdev_M_spkl_mean,stdev_M_spkl_mean1,stdev_M_spkl_mean2,stdev_M_spkl_mean3=apply_mean_public(MSet,MSetspkl,MSetspkl1,MSetspkl2,MSetspkl3)\n",
        "\n",
        "avr_R_spkl_mean,avr_R_spkl_mean1,avr_R_spkl_mean2,avr_R_spkl_mean3,stdev_R_spkl_mean,stdev_R_spkl_mean1,stdev_R_spkl_mean2,stdev_R_spkl_mean3=apply_mean_public(RSet,RSetspkl,RSetspkl1,RSetspkl2,RSetspkl3)\n",
        "\n",
        "plotSubplotData(avr_N_spkl_mean,avr_N_spkl_mean1,avr_N_spkl_mean2,avr_N_spkl_mean3,avr_M_spkl_mean,avr_M_spkl_mean1,avr_M_spkl_mean2,avr_M_spkl_mean3,avr_R_spkl_mean,avr_R_spkl_mean1,avr_R_spkl_mean2,avr_R_spkl_mean3)\n",
        "\n",
        "\n"
      ]
    },
    {
      "cell_type": "markdown",
      "metadata": {
        "id": "YUVknKYLVz6p"
      },
      "source": [
        "bilit"
      ]
    },
    {
      "cell_type": "code",
      "execution_count": null,
      "metadata": {
        "id": "z5zrr4vAVz6q"
      },
      "outputs": [],
      "source": [
        "\n",
        "avr_N_spkl_bilt,avr_N_spkl_bilt1,avr_N_spkl_bilt2,avr_N_spkl_bilt3,stdev_N_spkl_bilt,stdev_N_spkl_bilt1,stdev_N_spkl_bilt2,stdev_N_spkl_bilt3=apply_bilt_public(NSet,NSetspkl,NSetspkl1,NSetspkl2,NSetspkl3)\n",
        "avr_M_spkl_bilt,avr_M_spkl_bilt1,avr_M_spkl_bilt2,avr_M_spkl_bilt3,stdev_M_spkl_bilt,stdev_M_spkl_bilt1,stdev_M_spkl_bilt2,stdev_M_spkl_bilt3=apply_bilt_public(MSet,MSetspkl,MSetspkl1,MSetspkl2,MSetspkl3)\n",
        "avr_R_spkl_bilt,avr_R_spkl_bilt1,avr_R_spkl_bilt2,avr_R_spkl_bilt3,stdev_R_spkl_bilt,stdev_R_spkl_bilt1,stdev_R_spkl_bilt2,stdev_R_spkl_bilt3=apply_bilt_public(RSet,RSetspkl,RSetspkl1,RSetspkl2,RSetspkl3)\n",
        "plotSubplotData(avr_N_spkl_bilt,avr_N_spkl_bilt1,avr_N_spkl_bilt2,avr_N_spkl_bilt3,avr_M_spkl_bilt,avr_M_spkl_bilt1,avr_M_spkl_bilt2,avr_M_spkl_bilt3,avr_R_spkl_bilt,avr_R_spkl_bilt1,avr_R_spkl_bilt2,avr_R_spkl_bilt3)\n"
      ]
    },
    {
      "cell_type": "markdown",
      "metadata": {
        "id": "xpMQ4OlaSpvu"
      },
      "source": [
        "اپلای نویز poisson  بر تمام عکس ها"
      ]
    },
    {
      "cell_type": "code",
      "execution_count": null,
      "metadata": {
        "id": "6jRknVMtTGsr"
      },
      "outputs": [],
      "source": [
        "def apply_poisson_noise(img,noise_scaling):\n",
        "\n",
        "\n",
        "  # Generate Poisson-distributed noise\n",
        "  noisy = np.random.poisson(img / 255.0 * noise_scaling) / noise_scaling * 255.0\n",
        "  noisy = np.clip(noisy, 0, 255).astype(np.uint8)\n",
        "  return noisy"
      ]
    },
    {
      "cell_type": "code",
      "execution_count": null,
      "metadata": {
        "id": "RGVgq-GgTGtY"
      },
      "outputs": [],
      "source": [
        "NSetpoiss=[]\n",
        "NSetpoiss1=[]\n",
        "NSetpoiss2=[]\n",
        "NSetpoiss3=[]\n",
        "for i in range (len(NSet)):\n",
        "  NSetpoiss.append(apply_poisson_noise(NSet[i],0.1))\n",
        "  NSetpoiss1.append(apply_poisson_noise(NSet[i],0.5))\n",
        "  NSetpoiss2.append(apply_poisson_noise(NSet[i],1))\n",
        "  NSetpoiss3.append(apply_poisson_noise(NSet[i],2))\n",
        "MSetpoiss=[]\n",
        "MSetpoiss1=[]\n",
        "MSetpoiss2=[]\n",
        "MSetpoiss3=[]\n",
        "for i in range (len(MSet)):\n",
        "  MSetpoiss.append(apply_poisson_noise(MSet[i],0.1))\n",
        "  MSetpoiss1.append(apply_poisson_noise(MSet[i],0.5))\n",
        "  MSetpoiss2.append(apply_poisson_noise(MSet[i],1))\n",
        "  MSetpoiss3.append(apply_poisson_noise(MSet[i],2))\n",
        "RSetpoiss=[]\n",
        "RSetpoiss1=[]\n",
        "RSetpoiss2=[]\n",
        "RSetpoiss3=[]\n",
        "for i in range (len(RSet)):\n",
        "  RSetpoiss.append(apply_poisson_noise(RSet[i],0.1))\n",
        "  RSetpoiss1.append(apply_poisson_noise(RSet[i],0.5))\n",
        "  RSetpoiss2.append(apply_poisson_noise(RSet[i],1))\n",
        "  RSetpoiss3.append(apply_poisson_noise(RSet[i],2))"
      ]
    },
    {
      "cell_type": "markdown",
      "metadata": {
        "id": "_6v4k4emTGtY"
      },
      "source": [
        "فیلتر میانه و نویز poisson"
      ]
    },
    {
      "cell_type": "code",
      "execution_count": null,
      "metadata": {
        "id": "WKU79uVsTGtY"
      },
      "outputs": [],
      "source": [
        "avr_N_median,avr_N_median1,avr_N_median2,avr_N_median3,stdev_N_median,stdev_N_median1,stdev_N_median2,stdev_N_median3=apply_median_public(NSet,NSetpoiss,NSetpoiss1,NSetpoiss2,NSetpoiss3)\n",
        "\n"
      ]
    },
    {
      "cell_type": "code",
      "execution_count": null,
      "metadata": {
        "id": "6eyYS9RCTGtY"
      },
      "outputs": [],
      "source": [
        "avr_M_median,avr_M_median1,avr_M_median2,avr_M_median3,stdev_M_median,stdev_M_median1,stdev_M_median2,stdev_M_median3=apply_median_public(MSet,MSetpoiss,MSetpoiss1,MSetpoiss2,MSetpoiss3)\n",
        "\n"
      ]
    },
    {
      "cell_type": "code",
      "execution_count": null,
      "metadata": {
        "id": "T4LSVldKTGtY"
      },
      "outputs": [],
      "source": [
        "avr_R_median,avr_R_median1,avr_R_median2,avr_R_median3,stdev_R_median,stdev_R_median1,stdev_R_median2,stdev_R_median3=apply_median_public(RSet,RSetpoiss,RSetpoiss1,RSetpoiss2,RSetpoiss3)\n",
        "\n"
      ]
    },
    {
      "cell_type": "code",
      "execution_count": null,
      "metadata": {
        "id": "bDBezrQfTGtY"
      },
      "outputs": [],
      "source": [
        "plotSubplotData(avr_N_median,avr_N_median1,avr_N_median2,avr_N_median3,avr_M_median,avr_M_median1,avr_M_median2,avr_M_median3,avr_R_median,avr_R_median1,avr_R_median2,avr_R_median3)"
      ]
    },
    {
      "cell_type": "markdown",
      "metadata": {
        "id": "X7PznJy9TGtY"
      },
      "source": [
        "فیلتر میانگین و نویز poisson"
      ]
    },
    {
      "cell_type": "code",
      "execution_count": null,
      "metadata": {
        "id": "4UCm0j4BTGtY"
      },
      "outputs": [],
      "source": [
        "avr_N_mean_poiss,avr_N_mean_poiss1,avr_N_mean_poiss2,avr_N_mean_poiss3,stdev_N_mean_poiss,stdev_N_mean_poiss1,stdev_N_mean_poiss2,stdev_N_mean_poiss3=apply_avrg_public(NSet,NSetpoiss,NSetpoiss1,NSetpoiss2,NSetpoiss3)"
      ]
    },
    {
      "cell_type": "code",
      "execution_count": null,
      "metadata": {
        "id": "JdT-doRGTGtY"
      },
      "outputs": [],
      "source": [
        "avr_M_mean_poiss,avr_M_mean_poiss1,avr_M_mean_poiss2,avr_M_mean_poiss3,stdev_M_mean_poiss,stdev_M_mean_poiss1,stdev_M_mean_poiss2,stdev_M_mean_poiss3=apply_avrg_public(MSet,MSetpoiss,MSetpoiss1,MSetpoiss2,MSetpoiss3)"
      ]
    },
    {
      "cell_type": "code",
      "execution_count": null,
      "metadata": {
        "id": "FIoxVNZYTGtY"
      },
      "outputs": [],
      "source": [
        "avr_R_mean_poiss,avr_R_mean_poiss1,avr_R_mean_poiss2,avr_R_mean_poiss3,stdev_R_mean_poiss,stdev_R_mean_poiss1,stdev_R_mean_poiss2,stdev_R_mean_poiss3=apply_avrg_public(RSet,RSetpoiss,RSetpoiss1,RSetpoiss2,RSetpoiss3)"
      ]
    },
    {
      "cell_type": "code",
      "execution_count": null,
      "metadata": {
        "id": "RBDEjGObTGtY"
      },
      "outputs": [],
      "source": [
        "plotSubplotData(avr_N_mean_poiss,avr_N_mean_poiss1,avr_N_mean_poiss2,avr_N_mean_poiss3,avr_M_mean_poiss,avr_M_mean_poiss1,avr_M_mean_poiss2,avr_M_mean_poiss3,avr_R_mean_poiss,avr_R_mean_poiss1,avr_R_mean_poiss2,avr_R_mean_poiss3)"
      ]
    },
    {
      "cell_type": "markdown",
      "metadata": {
        "id": "wMU_Mlw8TGtY"
      },
      "source": [
        "فیلتر گاوسی و نویز poisson"
      ]
    },
    {
      "cell_type": "code",
      "execution_count": null,
      "metadata": {
        "id": "qJ1VSHbtTGtn"
      },
      "outputs": [],
      "source": [
        "avr_N_gau_poiss,avr_N_gau_poiss1,avr_N_gau_poiss2,avr_N_gau_poiss3,stdev_N_gau_poiss,stdev_N_gau_poiss1,stdev_N_gau_poiss2,stdev_N_gau_poiss3=apply_gausi_public(NSet,NSetpoiss,NSetpoiss1,NSetpoiss2,NSetpoiss3)"
      ]
    },
    {
      "cell_type": "code",
      "execution_count": null,
      "metadata": {
        "id": "TUUqBJtUTGtn"
      },
      "outputs": [],
      "source": [
        "avr_M_gau_poiss,avr_M_gau_poiss1,avr_M_gau_poiss2,avr_M_gau_poiss3,stdev_M_gau_poiss,stdev_M_gau_poiss1,stdev_M_gau_poiss2,stdev_M_gau_poiss3=apply_gausi_public(MSet,MSetpoiss,MSetpoiss1,MSetpoiss2,MSetpoiss3)"
      ]
    },
    {
      "cell_type": "code",
      "execution_count": null,
      "metadata": {
        "id": "jlQqMvBUTGtn"
      },
      "outputs": [],
      "source": [
        "avr_R_gau_poiss,avr_R_gau_poiss1,avr_R_gau_poiss2,avr_R_gau_poiss3,stdev_R_gau_poiss,stdev_R_gau_poiss1,stdev_R_gau_poiss2,stdev_R_gau_poiss3=apply_gausi_public(RSet,RSetpoiss,RSetpoiss1,RSetpoiss2,RSetpoiss3)"
      ]
    },
    {
      "cell_type": "code",
      "execution_count": null,
      "metadata": {
        "id": "LSO87H8pTGtn"
      },
      "outputs": [],
      "source": [
        "plotSubplotData(avr_N_gau_poiss,avr_N_gau_poiss1,avr_N_gau_poiss2,avr_N_gau_poiss3,avr_M_gau_poiss,avr_M_gau_poiss1,avr_M_gau_poiss2,avr_M_gau_poiss3,avr_R_gau_poiss,avr_R_gau_poiss1,avr_R_gau_poiss2,avr_R_gau_poiss3)"
      ]
    },
    {
      "cell_type": "code",
      "execution_count": null,
      "metadata": {
        "id": "a5fBGxZTTGtn"
      },
      "outputs": [],
      "source": [
        "avr_N_bilt_poiss,avr_N_bilt_poiss1,avr_N_bilt_poiss2,avr_N_bilt_poiss3,stdev_N_bilt_poiss,stdev_N_bilt_poiss1,stdev_N_bilt_poiss2,stdev_N_bilt_poiss3=apply_bilt_public(NSet,NSetpoiss,NSetpoiss1,NSetpoiss2,NSetpoiss3)"
      ]
    },
    {
      "cell_type": "code",
      "execution_count": null,
      "metadata": {
        "id": "HVbCiSgxTGtn"
      },
      "outputs": [],
      "source": [
        "avr_M_bilt_poiss,avr_M_bilt_poiss1,avr_M_bilt_poiss2,avr_M_bilt_poiss3,stdev_M_bilt_poiss,stdev_M_bilt_poiss1,stdev_M_bilt_poiss2,stdev_M_bilt_poiss3=apply_bilt_public(MSet,MSetpoiss,MSetpoiss1,MSetpoiss2,MSetpoiss3)"
      ]
    },
    {
      "cell_type": "code",
      "execution_count": null,
      "metadata": {
        "id": "IPAWltLtTGtn"
      },
      "outputs": [],
      "source": [
        "avr_R_bilt_poiss,avr_R_bilt_poiss1,avr_R_bilt_poiss2,avr_R_bilt_poiss3,stdev_R_bilt_poiss,stdev_R_bilt_poiss1,stdev_R_bilt_poiss2,stdev_R_bilt_poiss3=apply_bilt_public(RSet,RSetpoiss,RSetpoiss1,RSetpoiss2,RSetpoiss3)\n",
        "\n"
      ]
    },
    {
      "cell_type": "markdown",
      "metadata": {
        "id": "zsKD5UeuWDkJ"
      },
      "source": [
        "bilit"
      ]
    },
    {
      "cell_type": "code",
      "execution_count": null,
      "metadata": {
        "id": "IbKpJ6_VWDkZ"
      },
      "outputs": [],
      "source": [
        "avr_N_bilt,avr_N_bilt1,avr_N_bilt2,avr_N_bilt3,stdev_N_bilt,stdev_N_bilt1,stdev_N_bilt2,stdev_N_bilt3=apply_bilt_public(NSet,NSetgauNoise,NSetgauNoise1,NSetgauNoise2,NSetgauNoise3)\n",
        "avr_M_bilt,avr_M_bilt1,avr_M_bilt2,avr_M_bilt3,stdev_M_bilt,stdev_M_bilt1,stdev_M_bilt2,stdev_M_bilt3=apply_bilt_public(MSet,MSetgauNoise,MSetgauNoise1,MSetgauNoise2,MSetgauNoise3)\n",
        "avr_R_bilt,avr_R_bilt1,avr_R_bilt2,avr_R_bilt3,stdev_R_bilt,stdev_R_bilt1,stdev_R_bilt2,stdev_R_bilt3=apply_bilt_public(RSet,RSetgauRoise,RSetgauRoise1,RSetgauRoise2,RSetgauRoise3)\n",
        "plotSubplotData(avr_N_bilt,avr_N_bilt1,avr_N_bilt2,avr_N_bilt3,avr_M_bilt,avr_M_bilt1,avr_M_bilt2,avr_M_bilt3,avr_R_bilt,avr_R_bilt1,avr_R_bilt2,avr_R_bilt3)"
      ]
    },
    {
      "cell_type": "markdown",
      "metadata": {
        "id": "sH6Fh9jcTSRv"
      },
      "source": [
        "اپلای نویز گوسین"
      ]
    },
    {
      "cell_type": "code",
      "execution_count": null,
      "metadata": {
        "id": "aM86jqWvTSRv"
      },
      "outputs": [],
      "source": [
        "def apply_gau_noise(img_gray,mean,std_dev):\n",
        " # img_gray = cv2.cvtColor(img, cv2.COLOR_BGR2GRAY)\n",
        "  # Generate Gaussian-distributed noise\n",
        "  noise = np.random.normal(mean, std_dev, img_gray.shape)\n",
        "  noisy_img = np.clip(img_gray + noise, 0, 255).astype(np.uint8)\n",
        "  return noisy_img"
      ]
    },
    {
      "cell_type": "code",
      "execution_count": null,
      "metadata": {
        "id": "BxqxDbLyTSR_"
      },
      "outputs": [],
      "source": [
        "NSetgauNoise=[]\n",
        "NSetgauNoise1=[]\n",
        "NSetgauNoise2=[]\n",
        "NSetgauNoise3=[]\n",
        "for i in range (len(NSet)):\n",
        "  NSetgauNoise.append(apply_gau_noise(NSet[i],0,40))\n",
        "  NSetgauNoise1.append(apply_gau_noise(NSet[i],4,30))\n",
        "  NSetgauNoise2.append(apply_gau_noise(NSet[i],10,0))\n",
        "  NSetgauNoise3.append(apply_gau_noise(NSet[i],10,25))\n",
        "MSetgauNoise=[]\n",
        "MSetgauNoise1=[]\n",
        "MSetgauNoise2=[]\n",
        "MSetgauNoise3=[]\n",
        "for i in range (len(MSet)):\n",
        "  MSetgauNoise.append(apply_gau_noise(MSet[i],0,40))\n",
        "  MSetgauNoise1.append(apply_gau_noise(MSet[i],4,30))\n",
        "  MSetgauNoise2.append(apply_gau_noise(MSet[i],10,0))\n",
        "  MSetgauNoise3.append(apply_gau_noise(MSet[i],10,25))\n",
        "RSetgauNoise=[]\n",
        "RSetgauNoise1=[]\n",
        "RSetgauNoise2=[]\n",
        "RSetgauNoise3=[]\n",
        "for i in range (len(RSet)):\n",
        "  RSetgauNoise.append(apply_gau_noise(RSet[i],0,40))\n",
        "  RSetgauNoise1.append(apply_gau_noise(RSet[i],4,30))\n",
        "  RSetgauNoise2.append(apply_gau_noise(RSet[i],10,0))\n",
        "  RSetgauNoise3.append(apply_gau_noise(RSet[i],10,25))\n",
        "\n"
      ]
    },
    {
      "cell_type": "code",
      "execution_count": null,
      "metadata": {
        "id": "m6frK8MFTSR_"
      },
      "outputs": [],
      "source": [
        "print(apply_gau_noise(NSet[0],0,40))"
      ]
    },
    {
      "cell_type": "markdown",
      "metadata": {
        "id": "u3d8NjCyTSR_"
      },
      "source": [
        "نویز گاوسی و فیلتر میانه"
      ]
    },
    {
      "cell_type": "code",
      "execution_count": null,
      "metadata": {
        "id": "I6Qo7cJGTSR_"
      },
      "outputs": [],
      "source": [
        "avr_N_median,avr_N_median1,avr_N_median2,avr_N_median3,stdev_N_median,stdev_N_median1,stdev_N_median2,stdev_N_median3=apply_median_public(NSet,NSetgauNoise,NSetgauNoise1,NSetgauNoise2,NSetgauNoise3)\n",
        "\n",
        "\n"
      ]
    },
    {
      "cell_type": "code",
      "execution_count": null,
      "metadata": {
        "id": "kJY9R2BTTSR_"
      },
      "outputs": [],
      "source": [
        "avr_M_median,avr_M_median1,avr_M_median2,avr_M_median3,stdev_M_median,stdev_M_median1,stdev_M_median2,stdev_M_median3=apply_median_public(MSet,MSetgauNoise,MSetgauNoise1,MSetgauNoise2,MSetgauNoise3)"
      ]
    },
    {
      "cell_type": "code",
      "execution_count": null,
      "metadata": {
        "id": "FnlAYUyMTSR_"
      },
      "outputs": [],
      "source": [
        "avr_R_median,avr_R_median1,avr_R_median2,avr_R_median3,stdev_R_median,stdev_R_median1,stdev_R_median2,stdev_R_median3=apply_median_public(RSet,RSetgauNoise,RSetgauNoise1,RSetgauNoise2,RSetgauNoise3)"
      ]
    },
    {
      "cell_type": "code",
      "execution_count": null,
      "metadata": {
        "id": "LYoponkQTSR_"
      },
      "outputs": [],
      "source": [
        "plotSubplotData(avr_N_median,avr_N_median1,avr_N_median2,avr_N_median3,avr_M_median,avr_M_median1,avr_M_median2,avr_M_median3,avr_R_median,avr_R_median1,avr_R_median2,avr_R_median3)"
      ]
    },
    {
      "cell_type": "markdown",
      "metadata": {
        "id": "Aa5scSr0TSR_"
      },
      "source": [
        "فیلتر میانگین و نویز گاوسی"
      ]
    },
    {
      "cell_type": "code",
      "execution_count": null,
      "metadata": {
        "id": "HaAG7fKzTSR_"
      },
      "outputs": [],
      "source": [
        "avr_N_mean,avr_N_mean1,avr_N_mean2,avr_N_mean3,stdev_N_mean,stdev_N_mean1,stdev_N_mean2,stdev_N_mean3=apply_avrg_public(NSet,NSetgauNoise,NSetgauNoise1,NSetgauNoise2,NSetgauNoise3)"
      ]
    },
    {
      "cell_type": "code",
      "execution_count": null,
      "metadata": {
        "id": "IGvqdQiITSR_"
      },
      "outputs": [],
      "source": [
        "avr_M_mean,avr_M_mean1,avr_M_mean2,avr_M_mean3,stdev_M_mean,stdev_M_mean1,stdev_M_mean2,stdev_M_mean3=apply_avrg_public(MSet,MSetgauNoise,MSetgauNoise1,MSetgauNoise2,MSetgauNoise3)"
      ]
    },
    {
      "cell_type": "code",
      "execution_count": null,
      "metadata": {
        "id": "pQPnVqekTSR_"
      },
      "outputs": [],
      "source": [
        "avr_R_mean,avr_R_mean1,avr_R_mean2,avr_R_mean3,stdev_R_mean,stdev_R_mean1,stdev_R_mean2,stdev_R_mean3=apply_avrg_public(RSet,RSetgauNoise,RSetgauNoise1,RSetgauNoise2,RSetgauNoise3)\n",
        "\n"
      ]
    },
    {
      "cell_type": "code",
      "execution_count": null,
      "metadata": {
        "id": "IfeZo58cTSR_"
      },
      "outputs": [],
      "source": [
        "plotSubplotData(avr_N_mean,avr_N_mean1,avr_N_mean2,avr_N_mean3,avr_M_mean,avr_M_mean1,avr_M_mean2,avr_M_mean3,avr_R_mean,avr_R_mean1,avr_R_mean2,avr_R_mean3)"
      ]
    },
    {
      "cell_type": "markdown",
      "metadata": {
        "id": "ezNZSdrBTSR_"
      },
      "source": [
        "فیلتر گاوسی و نویز گاوسی"
      ]
    },
    {
      "cell_type": "code",
      "execution_count": null,
      "metadata": {
        "id": "nvCJcDHCTSR_"
      },
      "outputs": [],
      "source": [
        "def apply_gausi_public2(imgSet,noisySet,noisySet1,noisySet2,noisySet3):\n",
        "  ssim_all_N=[]\n",
        "  ssim1_all_N=[]\n",
        "  ssim2_all_N=[]\n",
        "  ssim3_all_N=[]\n",
        "  ssim_all_N_ind=[]\n",
        "  ssim1_all_N_ind=[]\n",
        "  ssim2_all_N_ind=[]\n",
        "  ssim3_all_N_ind=[]\n",
        "    #median with par =5\n",
        "  avr_N=[]\n",
        "  avr1_N=[]\n",
        "  avr2_N=[]\n",
        "  avr3_N=[]\n",
        "  stdev_N=[]\n",
        "  stdev1_N=[]\n",
        "  stdev2_N=[]\n",
        "  stdev3_N=[]\n",
        "  for i in range (1,11,2):\n",
        "    j=1.5\n",
        "    flag=True\n",
        "    for j in np.arange(1.5,3,0.5):\n",
        "      ssim_N=[]\n",
        "      ssim1_N=[]\n",
        "      ssim2_N=[]\n",
        "      ssim3_N=[]\n",
        "      for k in range(len(noisySet)):\n",
        "        ssim_N.append(apply_gaus_cal_ssim(imgSet[k],noisySet[k],[i,i],j))\n",
        "        ssim1_N.append(apply_gaus_cal_ssim(imgSet[k],noisySet1[k],[i,i],j))\n",
        "        ssim2_N.append(apply_gaus_cal_ssim(imgSet[k],noisySet2[k],[i,i],j))\n",
        "        ssim3_N.append(apply_gaus_cal_ssim(imgSet[k],noisySet3[k],[i,i],j))\n",
        "      avr_N.append(statistics.mean(ssim_N))\n",
        "      avr1_N.append(statistics.mean(ssim1_N))\n",
        "      avr2_N.append(statistics.mean(ssim2_N))\n",
        "      avr3_N.append(statistics.mean(ssim3_N))\n",
        "      stdev_N.append(statistics.stdev(ssim_N))\n",
        "      stdev1_N.append(statistics.stdev(ssim1_N))\n",
        "      stdev2_N.append(statistics.stdev(ssim2_N))\n",
        "      stdev3_N.append(statistics.stdev(ssim3_N))\n",
        "\n",
        "    print(i)\n",
        "  return avr_N,avr1_N,avr2_N,avr3_N,stdev_N,stdev1_N,stdev2_N,stdev3_N\n"
      ]
    },
    {
      "cell_type": "code",
      "execution_count": null,
      "metadata": {
        "id": "ow-pBrwUTSR_"
      },
      "outputs": [],
      "source": [
        "avr_N_gauF,avr_N_gauF1,avr_N_gauF2,avr_N_gauF3,stdev_N_gauF,stdev_N_gauF1,stdev_N_gauF2,stdev_N_gauF3=apply_gausi_public2(NSet,NSetgauNoise,NSetgauNoise1,NSetgauNoise2,NSetgauNoise3)\n",
        "\n",
        "\n",
        "\n"
      ]
    },
    {
      "cell_type": "code",
      "execution_count": null,
      "metadata": {
        "id": "FdjmBaLrTSR_"
      },
      "outputs": [],
      "source": [
        "avr_M_gau,avr_M_gau1,avr_M_gau2,avr_M_gau3,stdev_M_gau,stdev_M_gau1,stdev_M_gau2,stdev_M_gau3=apply_gausi_public2(MSet,MSetgauNoise,MSetgauNoise1,MSetgauNoise2,MSetgauNoise3)"
      ]
    },
    {
      "cell_type": "code",
      "execution_count": null,
      "metadata": {
        "id": "YsTyXWBsTSR_"
      },
      "outputs": [],
      "source": [
        "avr_R_gau,avr_R_gau1,avr_R_gau2,avr_R_gau3,stdev_R_gau,stdev_R_gau1,stdev_R_gau2,stdev_R_gau3=apply_gausi_public2(RSet,RSetgauNoise,RSetgauNoise1,RSetgauNoise2,RSetgauNoise3)"
      ]
    },
    {
      "cell_type": "code",
      "execution_count": null,
      "metadata": {
        "id": "CZhGRcbeTSR_"
      },
      "outputs": [],
      "source": [
        "plotSubplotData(avr_N_gauF,avr_N_gauF1,avr_N_gauF2,avr_N_gauF3,avr_M_gau,avr_M_gau1,avr_M_gau2,avr_M_gau3,avr_R_gau,avr_R_gau1,avr_R_gau2,avr_R_gau3)"
      ]
    },
    {
      "cell_type": "markdown",
      "metadata": {
        "id": "SJ-9rgywTSR_"
      },
      "source": [
        "نویز گاوسی و فیلتر پایلیترال"
      ]
    },
    {
      "cell_type": "code",
      "execution_count": null,
      "metadata": {
        "id": "hyZVVq13TSSO"
      },
      "outputs": [],
      "source": [
        "avr_N_bilt,avr_N_bilt1,avr_N_bilt2,avr_N_bilt3,stdev_N_bilt,stdev_N_bilt1,stdev_N_bilt2,stdev_N_bilt3=apply_bilt_public(NSet,NSetgauNoise,NSetgauNoise1,NSetgauNoise2,NSetgauNoise3)\n"
      ]
    },
    {
      "cell_type": "code",
      "execution_count": null,
      "metadata": {
        "id": "43AidNbUTSSO"
      },
      "outputs": [],
      "source": [
        "avr_M_bilt,avr_M_bilt1,avr_M_bilt2,avr_M_bilt3,stdev_M_bilt,stdev_M_bilt1,stdev_M_bilt2,stdev_M_bilt3=apply_bilt_public(MSet,MSetgauNoise,MSetgauNoise1,MSetgauNoise2,MSetgauNoise3)\n"
      ]
    },
    {
      "cell_type": "code",
      "execution_count": null,
      "metadata": {
        "id": "z4bdmPWATSSO"
      },
      "outputs": [],
      "source": [
        "avr_R_bilt,avr_R_bilt1,avr_R_bilt2,avr_R_bilt3,stdev_R_bilt,stdev_R_bilt1,stdev_R_bilt2,stdev_R_bilt3=apply_bilt_public(RSet,RSetgauNoise,RSetgauNoise1,RSetgauNoise2,RSetgauNoise3)"
      ]
    },
    {
      "cell_type": "code",
      "execution_count": null,
      "metadata": {
        "id": "fTY_TSz4TSSO"
      },
      "outputs": [],
      "source": [
        "plotSubplotData(avr_N_bilt,avr_N_bilt1,avr_N_bilt2,avr_N_bilt3,avr_M_bilt,avr_M_bilt1,avr_M_bilt2,avr_M_bilt3,avr_R_bilt,avr_R_bilt1,avr_R_bilt2,avr_R_bilt3)"
      ]
    },
    {
      "cell_type": "markdown",
      "metadata": {
        "id": "dbU7KkLAiTym"
      },
      "source": [
        "بررسی شارپ کردن بر روی تقویت نویز ها"
      ]
    },
    {
      "cell_type": "markdown",
      "metadata": {
        "id": "j9W3gCOrkWx4"
      },
      "source": [
        "محاسبه ssim"
      ]
    },
    {
      "cell_type": "code",
      "execution_count": null,
      "metadata": {
        "id": "027_KMjLCQpO"
      },
      "outputs": [],
      "source": [
        "def apply_lap_ssim_psnr(img,noisy):\n",
        "    # Convert the image to granyscale\n",
        "  #img_gray = cv2.cvtColor(noisy, cv2.COLOR_BGR2GRAY)\n",
        "  # Apply the Laplacian filter to the grayscale image\n",
        "  laplacian = cv2.Laplacian(img, cv2.CV_64F)\n",
        "  # Convert the result back to the original data type and scale it to the 0-255 range\n",
        "  sharpening = np.uint8(np.clip(img - laplacian, 0, 255))\n",
        "  return ssim(img,noisy)-ssim(img,sharpening) , psnr(img , noisy)-psnr(img,sharpening)"
      ]
    },
    {
      "cell_type": "code",
      "execution_count": null,
      "metadata": {
        "id": "ELGi4IzvlxCB"
      },
      "outputs": [],
      "source": [
        "def apply_laplasian_public(imgSet,noisySet,noisySet1,noisySet2,noisySet3):\n",
        "\n",
        "\n",
        "  ssim_N=[]\n",
        "  ssim1_N=[]\n",
        "  ssim2_N=[]\n",
        "  ssim3_N=[]\n",
        "  psnr_N=[]\n",
        "  psnr1_N=[]\n",
        "  psnr2_N=[]\n",
        "  psnr3_N=[]\n",
        "\n",
        "  for k in range(len(noisySet)):\n",
        "    ss ,ps=apply_lap_ssim_psnr(imgSet[k],noisySet[k])\n",
        "    ssim_N.append(ss)\n",
        "    psnr_N.append(ps)\n",
        "    ss ,ps=apply_lap_ssim_psnr(imgSet[k],noisySet1[k])\n",
        "    ssim1_N.append(ss)\n",
        "    psnr1_N.append(ps)\n",
        "    ss ,ps=apply_lap_ssim_psnr(imgSet[k],noisySet2[k])\n",
        "    ssim2_N.append(ss)\n",
        "    psnr2_N.append(ps)\n",
        "    ss ,ps=apply_lap_ssim_psnr(imgSet[k],noisySet3[k])\n",
        "    ssim3_N.append(ss)\n",
        "    psnr3_N.append(ps)\n",
        "    print(k)\n",
        "  return ssim_N,ssim1_N,ssim2_N,ssim3_N ,psnr_N,psnr1_N,psnr2_N,psnr3_N"
      ]
    },
    {
      "cell_type": "markdown",
      "metadata": {
        "id": "Wo_3FKn5lRT3"
      },
      "source": [
        "اپلای لاپلاسین شارپنینگ بر نویز نمک و فلفل"
      ]
    },
    {
      "cell_type": "code",
      "execution_count": null,
      "metadata": {
        "id": "GetdEB093p-I"
      },
      "outputs": [],
      "source": [
        "Set=[]\n",
        "Set.extend(NSet)\n",
        "#Set.extend(MSet)\n",
        "Set.extend(RSet)\n",
        "noisySetsp=[]\n",
        "noisySetsp.extend(NSetsp)\n",
        "#noisySetsp.extend(MSetsp)\n",
        "#noisySetsp.extend(RSetsp)\n",
        "noisySetsp1=[]\n",
        "noisySetsp1.extend(NSetsp1)\n",
        "#noisySetsp1.extend(MSetsp1)\n",
        "#noisySetsp1.extend(RSetsp1)\n",
        "noisySetsp2=[]\n",
        "noisySetsp2.extend(NSetsp2)\n",
        "#noisySetsp2.extend(MSetsp2)\n",
        "#noisySetsp2.extend(RSetsp2)\n",
        "noisySetsp3=[]\n",
        "noisySetsp3.extend(NSetsp3)\n",
        "#noisySetsp3.extend(MSetsp3)\n",
        "#noisySetsp3.extend(RSetsp3)\n",
        "\n",
        "print()\n",
        "\n",
        "\n",
        "\n"
      ]
    },
    {
      "cell_type": "code",
      "execution_count": null,
      "metadata": {
        "id": "k0vuuVmulQzC"
      },
      "outputs": [],
      "source": [
        "Set=[]\n",
        "Set.extend(NSet)\n",
        "#Set.extend(MSet)\n",
        "Set.extend(RSet)\n",
        "noisySetspkl=[]\n",
        "noisySetspkl.extend(NSetspkl)\n",
        "#noisySetspkl.extend(MSetspkl)\n",
        "#noisySetspkl.extend(RSetspkl)\n",
        "noisySetspkl1=[]\n",
        "noisySetspkl1.extend(NSetspkl1)\n",
        "#noisySetspkl1.extend(MSetspkl1)\n",
        "#noisySetspkl1.extend(RSetspkl1)\n",
        "noisySetspkl2=[]\n",
        "noisySetspkl2.extend(NSetspkl2)\n",
        "#noisySetspkl2.extend(MSetspkl2)\n",
        "#noisySetspkl2.extend(RSetspkl2)\n",
        "noisySetspkl3=[]\n",
        "noisySetspkl3.extend(NSetspkl3)\n",
        "#noisySetspkl3.extend(MSetspkl3)\n",
        "#noisySetspkl3.extend(RSetspkl3)\n",
        "\n",
        "print()\n",
        "\n",
        "\n"
      ]
    },
    {
      "cell_type": "code",
      "execution_count": null,
      "metadata": {
        "id": "vUpDJuw0zkTQ"
      },
      "outputs": [],
      "source": [
        "Set=[]\n",
        "Set.extend(NSet)\n",
        "#Set.extend(MSet)\n",
        "Set.extend(RSet)\n",
        "noisySetpoiss=[]\n",
        "noisySetpoiss.extend(NSetpoiss)\n",
        "#noisySetpoiss.extend(MSetpoiss)\n",
        "#noisySetpoiss.extend(RSetpoiss)\n",
        "noisySetpoiss1=[]\n",
        "noisySetpoiss1.extend(NSetpoiss1)\n",
        "#noisySetpoiss1.extend(MSetpoiss1)\n",
        "#noisySetpoiss1.extend(RSetpoiss1)\n",
        "noisySetpoiss2=[]\n",
        "noisySetpoiss2.extend(NSetpoiss2)\n",
        "#noisySetpoiss2.extend(MSetpoiss2)\n",
        "#noisySetpoiss2.extend(RSetpoiss2)\n",
        "noisySetpoiss3=[]\n",
        "noisySetpoiss3.extend(NSetpoiss3)\n",
        "#noisySetpoiss3.extend(MSetpoiss3)\n",
        "#noisySetpoiss3.extend(RSetpoiss3)\n",
        "\n",
        "print()\n",
        "\n",
        "\n"
      ]
    },
    {
      "cell_type": "code",
      "execution_count": null,
      "metadata": {
        "id": "9UMuir270nWh"
      },
      "outputs": [],
      "source": [
        "Set=[]\n",
        "Set.extend(NSet)\n",
        "#Set.extend(MSet)\n",
        "Set.extend(RSet)\n",
        "noisySetgauNoise=[]\n",
        "noisySetgauNoise.extend(NSetgauNoise)\n",
        "#noisySetgauNoise.extend(MSetgauNoise)\n",
        "#noisySetgauNoise.extend(RSetgauNoise)\n",
        "noisySetgauNoise1=[]\n",
        "noisySetgauNoise1.extend(NSetgauNoise1)\n",
        "#noisySetgauNoise1.extend(MSetgauNoise1)\n",
        "#noisySetgauNoise1.extend(RSetgauNoise1)\n",
        "noisySetgauNoise2=[]\n",
        "noisySetgauNoise2.extend(NSetgauNoise2)\n",
        "#noisySetgauNoise2.extend(MSetgauNoise2)\n",
        "#noisySetgauNoise2.extend(RSetgauNoise2)\n",
        "noisySetgauNoise3=[]\n",
        "noisySetgauNoise3.extend(NSetgauNoise3)\n",
        "#noisySetgauNoise3.extend(MSetgauNoise3)\n",
        "#noisySetgauNoise3.extend(RSetgauNoise3)\n",
        "\n",
        "print()\n",
        "\n",
        "\n",
        "\n"
      ]
    },
    {
      "cell_type": "code",
      "execution_count": null,
      "metadata": {
        "id": "Rj1Hu5js0d4t"
      },
      "outputs": [],
      "source": [
        "ga=apply_laplasian_public(Set,noisySetgauNoise,noisySetgauNoise1,noisySetgauNoise2,noisySetgauNoise3)\n",
        "\n"
      ]
    },
    {
      "cell_type": "code",
      "execution_count": null,
      "metadata": {
        "id": "PyRVlPe6z1IL"
      },
      "outputs": [],
      "source": [
        "poiss=apply_laplasian_public(Set,noisySetpoiss,noisySetpoiss1,noisySetpoiss2,noisySetpoiss3)\n",
        "\n"
      ]
    },
    {
      "cell_type": "code",
      "execution_count": null,
      "metadata": {
        "id": "8jcYjpUHyVor"
      },
      "outputs": [],
      "source": [
        "spkl=apply_laplasian_public(Set,noisySetspkl,noisySetspkl1,noisySetspkl2,noisySetspkl3)"
      ]
    },
    {
      "cell_type": "code",
      "execution_count": null,
      "metadata": {
        "id": "0Rre6TsAlMrv"
      },
      "outputs": [],
      "source": [
        "nsp=[-0.5372091928596199, -0.5985629334261027, -0.518440331007854, -0.4427852412772243, -0.6257433758545727, -0.5058673491087478, -0.6723320550234526, -0.6801103762507589, -0.428285105153217, -0.4787423459709766, -0.5013389561220598, -0.844211712894505, -0.6042085310089393, -0.561334147563577, -0.7236742260509561], [-0.5372024864909325, -0.5984523830121621, -0.5183713196765365, -0.44247582348457615, -0.6256675469964927, -0.5058074455605094, -0.6724065474783133, -0.6801326239365922, -0.42828382897638284, -0.4786646280717277, -0.5012382397356018, -0.8435670597388295, -0.6035416549337641, -0.5612181805619944, -0.7234092788418149], [-0.5371910577816786, -0.5982325018951591, -0.5182307320195754, -0.4419132937201558, -0.6255144786740816, -0.5056673591722888, -0.6725529707476969, -0.6801733332743611, -0.42828516882418344, -0.47849179222934196, -0.5010413080769842, -0.8423499665775233, -0.6022972730950062, -0.5610045504769997, -0.7228832612657531], [-0.5371682525497912, -0.5977843325312645, -0.5179636858026659, -0.44082383698041455, -0.6252164736196917, -0.505396654258752, -0.6728367395162482, -0.6802575207545132, -0.4282869902236409, -0.4781782107546796, -0.5006344198036469, -0.8399164326128689, -0.5997955455324675, -0.5605621759637518, -0.7218450746759881], [-8.63111472333319, -10.419395116167173, -15.02298555966216, -13.393904127634187, -17.52490262067876, -12.265727758489515, -19.72779970636411, -16.10598433154779, -13.98197513717983, -12.77510604004057, -14.269574543282575, -21.16040365270584, -12.708226259184825, -18.45264235587401, -13.698682320055191], [-8.631376171795063, -10.419508008990105, -15.023272682381291, -13.39414241802047, -17.525289116134125, -12.266115891398364, -19.72837409736159, -16.106430790388305, -13.982234706835893, -12.775226928094334, -14.269763045588324, -21.16066134382774, -12.707381656823205, -18.452620169321918, -13.698487222455542], [-8.631924156562313, -10.419751357718845, -15.023867300733723, -13.394672869637546, -17.52600516599746, -12.266821292054852, -19.72956260582697, -16.107374945272152, -13.982811879727134, -12.775331902231647, -14.270285267353875, -21.161221273139233, -12.705775875890035, -18.452626604654352, -13.698159794995457], [-8.63302780335995, -10.42017451149303, -15.025025804602457, -13.395737521137882, -17.527484571446887, -12.26822256029367, -19.73182831145121, -16.10926039826546, -13.983947957767846, -12.775708889591158, -14.271168635698459, -21.16229507331145, -12.702676649284452, -18.452594968245506, -13.69742816146424]"
      ]
    },
    {
      "cell_type": "code",
      "execution_count": null,
      "metadata": {
        "id": "TLRVbgYNuvfO"
      },
      "outputs": [],
      "source": [
        "def apply_sobel_ssim_psnr(img,img_gray):\n",
        "  # Apply the Sobel filter to the grayscale image\n",
        "  sobel_x = cv2.Sobel(img_gray, cv2.CV_64F, 1, 0, ksize=3)\n",
        "  sobel_y = cv2.Sobel(img_gray, cv2.CV_64F, 0, 1, ksize=3)\n",
        "  sobel_mag = np.sqrt(sobel_x**2 + sobel_y**2)\n",
        "\n",
        "  # Convert the result back to the original data type and scale it to the 0-255 range\n",
        "  sobel_img = np.uint8(np.clip(sobel_mag, 0, 255))\n",
        "  return ssim(img,img_gray)-ssim(img,sobel_img),psnr(img,img_gray)-psnr(img,sobel_img)"
      ]
    },
    {
      "cell_type": "code",
      "execution_count": null,
      "metadata": {
        "id": "yIRSFnzI08c4"
      },
      "outputs": [],
      "source": [
        "def apply_sobel_public(imgSet,noisySet,noisySet1,noisySet2,noisySet3):\n",
        "\n",
        "\n",
        "  ssim_N=[]\n",
        "  ssim1_N=[]\n",
        "  ssim2_N=[]\n",
        "  ssim3_N=[]\n",
        "  psnr_N=[]\n",
        "  psnr1_N=[]\n",
        "  psnr2_N=[]\n",
        "  psnr3_N=[]\n",
        "\n",
        "  for k in range(len(noisySet)):\n",
        "    ss ,ps=apply_sobel_ssim_psnr(imgSet[k],noisySet[k])\n",
        "    ssim_N.append(ss)\n",
        "    psnr_N.append(ps)\n",
        "    ss ,ps=apply_sobel_ssim_psnr(imgSet[k],noisySet1[k])\n",
        "    ssim1_N.append(ss)\n",
        "    psnr1_N.append(ps)\n",
        "    ss ,ps=apply_sobel_ssim_psnr(imgSet[k],noisySet2[k])\n",
        "    ssim2_N.append(ss)\n",
        "    psnr2_N.append(ps)\n",
        "    ss ,ps=apply_sobel_ssim_psnr(imgSet[k],noisySet3[k])\n",
        "    ssim3_N.append(ss)\n",
        "    psnr3_N.append(ps)\n",
        "    print(k)\n",
        "  return ssim_N,ssim1_N,ssim2_N,ssim3_N ,psnr_N,psnr1_N,psnr2_N,psnr3_N"
      ]
    },
    {
      "cell_type": "code",
      "execution_count": null,
      "metadata": {
        "id": "HxDVQ4lY1aq-"
      },
      "outputs": [],
      "source": [
        "ga1=apply_sobel_public(Set,noisySetgauNoise,noisySetgauNoise1,noisySetgauNoise2,noisySetgauNoise3)\n",
        "\n",
        "spkl1=apply_sobel_public(Set,noisySetspkl,noisySetspkl1,noisySetspkl2,noisySetspkl3)\n",
        "poiss1=apply_sobel_public(Set,noisySetpoiss,noisySetpoiss1,noisySetpoiss2,noisySetpoiss3)\n",
        "nsp1=apply_sobel_public(Set,noisySetsp,noisySetsp1,noisySetsp2,noisySetsp3)\n",
        "\n"
      ]
    },
    {
      "cell_type": "code",
      "execution_count": null,
      "metadata": {
        "id": "CNu4ujxR3Gg_"
      },
      "outputs": [],
      "source": [
        "nsp1=apply_sobel_public(Set,noisySetsp,noisySetsp1,noisySetsp2,noisySetsp3)\n"
      ]
    },
    {
      "cell_type": "code",
      "execution_count": null,
      "metadata": {
        "id": "XDOeL54B3WxY"
      },
      "outputs": [],
      "source": [
        "def apply_unsh_ssim_psnr(imgl,img):\n",
        "  # Apply the Sobel filter to the grayscale image\n",
        "  # Apply Gaussian blur to the image\n",
        "  blurred = cv2.GaussianBlur(img, (0, 0), 3)\n",
        "\n",
        "  # Subtract the blurred image from the original to create the mask\n",
        "  mask = cv2.addWeighted(img, 1.5, blurred, -0.5, 0)\n",
        "\n",
        "  return ssim(imgl,img)-ssim(imgl,mask),psnr(imgl,img)-psnr(imgl,mask)"
      ]
    },
    {
      "cell_type": "code",
      "execution_count": null,
      "metadata": {
        "id": "UXGvZ3vl3Xxq"
      },
      "outputs": [],
      "source": [
        "def apply_unsh_public(imgSet,noisySet,noisySet1,noisySet2,noisySet3):\n",
        "\n",
        "\n",
        "  ssim_N=[]\n",
        "  ssim1_N=[]\n",
        "  ssim2_N=[]\n",
        "  ssim3_N=[]\n",
        "  psnr_N=[]\n",
        "  psnr1_N=[]\n",
        "  psnr2_N=[]\n",
        "  psnr3_N=[]\n",
        "\n",
        "  for k in range(len(noisySet)):\n",
        "    ss ,ps=apply_unsh_ssim_psnr(imgSet[k],noisySet[k])\n",
        "    ssim_N.append(ss)\n",
        "    psnr_N.append(ps)\n",
        "    ss ,ps=apply_unsh_ssim_psnr(imgSet[k],noisySet1[k])\n",
        "    ssim1_N.append(ss)\n",
        "    psnr1_N.append(ps)\n",
        "    ss ,ps=apply_unsh_ssim_psnr(imgSet[k],noisySet2[k])\n",
        "    ssim2_N.append(ss)\n",
        "    psnr2_N.append(ps)\n",
        "    ss ,ps=apply_unsh_ssim_psnr(imgSet[k],noisySet3[k])\n",
        "    ssim3_N.append(ss)\n",
        "    psnr3_N.append(ps)\n",
        "    print(k)\n",
        "  return ssim_N,ssim1_N,ssim2_N,ssim3_N ,psnr_N,psnr1_N,psnr2_N,psnr3_N"
      ]
    },
    {
      "cell_type": "code",
      "execution_count": null,
      "metadata": {
        "id": "hgNwGKMv37tF"
      },
      "outputs": [],
      "source": [
        "ga2=apply_unsh_public(Set,noisySetgauNoise,noisySetgauNoise1,noisySetgauNoise2,noisySetgauNoise3)\n",
        "\n",
        "spkl2=apply_unsh_public(Set,noisySetspkl,noisySetspkl1,noisySetspkl2,noisySetspkl3)\n",
        "poiss2=apply_unsh_public(Set,noisySetpoiss,noisySetpoiss1,noisySetpoiss2,noisySetpoiss3)\n",
        "nsp2=apply_unsh_public(Set,noisySetsp,noisySetsp1,noisySetsp2,noisySetsp3)"
      ]
    },
    {
      "cell_type": "code",
      "execution_count": null,
      "metadata": {
        "id": "PdpW72zU5-Ak"
      },
      "outputs": [],
      "source": [
        "  figs,acs=plt.subplots(1,3,figsize=(30,10 ))\n",
        "  x_data=[num for num in range(len(avr_N_ga)+1) if num != 0]\n",
        "  acs[0].plot(x_data,avr_N_ga)\n",
        "  acs[0].plot(x_data,avr_N_ga1)\n",
        "  acs[0].plot(x_data,avr_N_ga2)\n",
        "  acs[0].plot(x_data,avr_N_ga3)\n",
        "\n",
        "  x_data=[num for num in range(len(avr_M_ga)+1) if num != 0]\n",
        "  acs[1].plot(x_data,avr_M_ga)\n",
        "  acs[1].plot(x_data,avr_M_ga1)\n",
        "  acs[1].plot(x_data,avr_M_ga2)\n",
        "  acs[1].plot(x_data,avr_M_ga3)\n",
        "\n",
        "  x_data=[num for num in range(len(avr_R_ga)+1) if num != 0]\n",
        "  acs[2].plot(x_data,avr_R_ga)\n",
        "  acs[2].plot(x_data,avr_R_ga1)\n",
        "  acs[2].plot(x_data,avr_R_ga2)\n",
        "  acs[2].plot(x_data,avr_R_ga3)\n"
      ]
    },
    {
      "cell_type": "code",
      "execution_count": null,
      "metadata": {
        "id": "nDTkfYvn6Qom"
      },
      "outputs": [],
      "source": [
        "plotSubplotData(nsp,spkl,poiss,ga,nsp1,spkl1,poiss1,ga1,nsp2,spkl2,poiss2,ga2)"
      ]
    },
    {
      "cell_type": "code",
      "execution_count": null,
      "metadata": {
        "id": "ix7qBBiW7S4n"
      },
      "outputs": [],
      "source": [
        "avr=[]\n",
        "std=[]\n",
        "for l in ([nsp,spkl,poiss,ga,nsp1,spkl1,poiss1,ga1,nsp2,spkl2,poiss2,ga2]):\n",
        "  avr.append(np.mean(l))\n",
        "  std.append(np.mean(l))"
      ]
    },
    {
      "cell_type": "code",
      "execution_count": null,
      "metadata": {
        "id": "3G0DCDhd747U"
      },
      "outputs": [],
      "source": [
        "print(avr)"
      ]
    },
    {
      "cell_type": "markdown",
      "metadata": {
        "id": "yVVoH4XhlkLj"
      },
      "source": [
        "تابع اپلای wavelet"
      ]
    },
    {
      "cell_type": "code",
      "execution_count": null,
      "metadata": {
        "id": "KaOWLGkuli4N"
      },
      "outputs": [],
      "source": [
        "import pywt\n",
        "\n",
        "\n",
        "def apply_wavelet(image, threshold_value):\n",
        "    # Read the noisy image and apply the wavelet transform\n",
        "\n",
        "    coeffs = pywt.wavedec2(image, 'haar', level=3)  # 2D Wavelet transform with 3 levels\n",
        "\n",
        "    # Estimate the threshold value\n",
        "    threshold = threshold_value\n",
        "\n",
        "    # Apply thresholding to the wavelet coefficients\n",
        "    thresholded_coeffs = [pywt.threshold(c, threshold, mode='soft') if i > 0 else c for i, c in enumerate(coeffs)]\n",
        "\n",
        "    # Reconstruct the denoised image using the inverse wavelet transform\n",
        "    denoised_image = pywt.waverec2(thresholded_coeffs, 'haar')\n",
        "\n",
        "    # Display the original and denoised images\n",
        "    fig, ax = plt.subplots(1, 2, figsize=(12, 6))\n",
        "    ax[0].imshow(image, cmap='gray')\n",
        "    ax[0].set_title('Noisy Image')\n",
        "    ax[1].imshow(denoised_image.astype(np.uint8), cmap='gray')\n",
        "    ax[1].set_title('Denoised Image')\n",
        "    plt.show()\n",
        "    return denoised_image\n"
      ]
    },
    {
      "cell_type": "code",
      "source": [
        "import pywt\n",
        "\n",
        "image=NSet[0]\n",
        "image=cv2.cvtColor(image, cv2.COLOR_BGR2HSV)\n",
        "threshold_value=70\n",
        "\n",
        "coeffs2 = pywt.dwt2(image, 'haar')  # 2D Discrete Wavelet Transform (DWT)\n",
        "cA, (cH, cV, cD) = coeffs2  # Approximation, Horizontal detail, Vertical detail, Diagonal detail\n",
        "\n",
        "# Apply thresholding to the detail coefficients\n",
        "cH_thresh = pywt.threshold(cH, threshold_value, mode='hard')\n",
        "cV_thresh = pywt.threshold(cV, threshold_value, mode='hard')\n",
        "cD_thresh = pywt.threshold(cD, threshold_value, mode='hard')\n",
        "\n",
        "# Reconstruct the denoised image using the inverse DWT\n",
        "denoised_image = pywt.idwt2((cA, (cH_thresh, cV_thresh, cD_thresh)), 'haar')\n",
        "\n",
        "# Display the original and denoised images\n",
        "fig, ax = plt.subplots(1, 2, figsize=(12, 6))\n",
        "ax[0].imshow(image, cmap='gray')\n",
        "ax[0].set_title('Noisy Image')\n",
        "ax[1].imshow(denoised_image.astype(np.uint8), cmap='gray')\n",
        "ax[1].set_title('Denoised Image')\n",
        "plt.show()"
      ],
      "metadata": {
        "id": "9o5qskKs55Jt"
      },
      "execution_count": null,
      "outputs": []
    },
    {
      "cell_type": "code",
      "source": [
        "import pywt\n",
        "\n",
        "image=NSet[1]\n",
        "\n",
        "coeffs2 = pywt.dwt2(image, 'haar')  # 2D Discrete Wavelet Transform (DWT)\n",
        "cA, (cH, cV, cD) = coeffs2  # Approximation, Horizontal detail, Vertical detail, Diagonal detail\n",
        "\n",
        "# Apply thresholding to the detail coefficients\n",
        "threshold_value =50 # Example threshold value\n",
        "cH_thresh = pywt.threshold(cH, threshold_value, mode='soft')\n",
        "cV_thresh = pywt.threshold(cV, threshold_value, mode='soft')\n",
        "cD_thresh = pywt.threshold(cD, threshold_value, mode='soft')\n",
        "\n",
        "# Reconstruct the denoised image using the inverse DWT\n",
        "denoised_image = pywt.idwt2((cA, (cH_thresh, cV_thresh, cD_thresh)), 'haar').astype(np.uint8)\n",
        "k\n",
        "# Display the original and denoised images\n",
        "fig, ax = plt.subplots(1, 2, figsize=(12, 6))\n",
        "ax[0].imshow(image, cmap='gray')\n",
        "ax[0].set_title('Noisy Image')\n",
        "ax[1].imshow(denoised_image.astype(np.uint8))\n",
        "ax[1].set_title('Denoised Image')\n",
        "plt.show()\n"
      ],
      "metadata": {
        "id": "cqf0OyyPusOV"
      },
      "execution_count": null,
      "outputs": []
    },
    {
      "cell_type": "code",
      "source": [
        "denoised_image = cv2.resize(denoised_image, (image.shape[1],image.shape[0]))\n",
        "print(ssim(image,denoised_image))\n"
      ],
      "metadata": {
        "id": "7ggyFPZz_gBJ"
      },
      "execution_count": null,
      "outputs": []
    },
    {
      "cell_type": "markdown",
      "metadata": {
        "id": "E2GZS3B8mlVE"
      },
      "source": [
        "apply candidate filters on images"
      ]
    },
    {
      "cell_type": "markdown",
      "source": [
        "sp noise"
      ],
      "metadata": {
        "id": "-G0cZWmapBv_"
      }
    },
    {
      "cell_type": "code",
      "execution_count": null,
      "metadata": {
        "id": "Vqzush4Smkdx"
      },
      "outputs": [],
      "source": [
        "w2_Nsp1=[]\n",
        "w2_Nsp2=[]\n",
        "w2_Nsp3=[]\n",
        "w2_Nsp=[]\n",
        "w2_Msp1=[]\n",
        "w2_Msp2=[]\n",
        "w2_Msp3=[]\n",
        "w2_Msp=[]\n",
        "w2_Rsp1=[]\n",
        "w2_Rsp2=[]\n",
        "w2_Rsp3=[]\n",
        "w2_Rsp=[]\n",
        "thrsh=0\n",
        "for i in range(len(NSetsp)):\n",
        " w2_Nsp.append(ssim(NSetsp[i],apply_wavelet(NSetsp[i],thrsh)))\n",
        " w2_Nsp1.append(ssim(NSetsp[i],apply_wavelet(NSetsp1[i],thrsh)))\n",
        " w2_Nsp2.append(ssim(NSetsp[i],apply_wavelet(NSetsp2[i],thrsh)))\n",
        " w2_Nsp3.append(ssim(NSetsp[i],apply_wavelet(NSetsp3[i],thrsh)))\n",
        "\n",
        "\n",
        "for i in range(len(MSetsp)):\n",
        " w2_Msp.append(ssim(MSetsp[i],apply_wavelet(MSetsp[i],thrsh)))\n",
        " w2_Msp1.append(ssim(MSetsp[i],apply_wavelet(MSetsp1[i],thrsh)))\n",
        " w2_Msp2.append(ssim(MSetsp[i],apply_wavelet(MSetsp2[i],thrsh)))\n",
        " w2_Msp3.append(ssim(MSetsp[i],apply_wavelet(MSetsp3[i],thrsh)))\n",
        "\n",
        "\n",
        "\n",
        "for i in range(len(RSetsp)):\n",
        " w2_Rsp.append(ssim(RSetsp[i],apply_wavelet(RSetsp[i],thrsh)))\n",
        " w2_Rsp1.append(ssim(RSetsp[i],apply_wavelet(RSetsp1[i],thrsh)))\n",
        " w2_Rsp2.append(ssim(RSetsp[i],apply_wavelet(RSetsp2[i],thrsh)))\n",
        " w2_Rsp3.append(ssim(RSetsp[i],apply_wavelet(RSetsp3[i],thrsh)))\n",
        "\n",
        "\n"
      ]
    },
    {
      "cell_type": "code",
      "source": [
        "from skimage.restoration import (denoise_wavelet,estimate_sigma)\n",
        "sigma=0.1\n",
        "sigma_est=estimate_sigma(NSetsp[0],methode='haar')"
      ],
      "metadata": {
        "id": "5Gf1OhfsrO63"
      },
      "execution_count": null,
      "outputs": []
    },
    {
      "cell_type": "code",
      "source": [
        "import cv2\n",
        "import numpy as np\n",
        "import pywt\n",
        "from skimage.metrics import structural_similarity as ssim\n",
        "noisy_image =NSetsp[0]\n",
        "# Perform wavelet transform\n",
        "coeffs = pywt.wavedec2(noisy_image, 'haar', level=3)\n",
        "\n",
        "# Apply thresholding based on Shannon entropy\n",
        "threshold = 0.1 * np.max(coeffs[0])\n",
        "coeffs = [pywt.threshold(c, threshold, mode='soft') if i == 0 else c for i, c in enumerate(coeffs)]\n",
        "\n",
        "# Reconstruct the denoised image\n",
        "denoised_image = pywt.waverec2(coeffs, 'haar')\n",
        "\n",
        "denoised_image = np.squeeze(denoised_image)\n",
        "image = np.squeeze(image)\n",
        "# Calculate SSIM\n",
        "ssim_index = ssim(noisy_image, denoised_image)############ have error here!(becuse of image shape and denoised image  shape are different )\n",
        "\n",
        "# Display the results\n",
        "cv2_imshow('Original Noisy Image', noisy_image)\n",
        "cv2_imshow('Denoised Image', denoised_image)\n",
        "print(f\"SSIM: {ssim_index}\")\n"
      ],
      "metadata": {
        "colab": {
          "base_uri": "https://localhost:8080/",
          "height": 390
        },
        "id": "f9bsuIyxJFX_",
        "outputId": "d80845d5-dbb4-4982-d088-1656828eaf86"
      },
      "execution_count": 126,
      "outputs": [
        {
          "output_type": "error",
          "ename": "ValueError",
          "evalue": "ignored",
          "traceback": [
            "\u001b[0;31m---------------------------------------------------------------------------\u001b[0m",
            "\u001b[0;31mValueError\u001b[0m                                Traceback (most recent call last)",
            "\u001b[0;32m<ipython-input-126-d896dc4c636e>\u001b[0m in \u001b[0;36m<cell line: 19>\u001b[0;34m()\u001b[0m\n\u001b[1;32m     17\u001b[0m \u001b[0mimage\u001b[0m \u001b[0;34m=\u001b[0m \u001b[0mnp\u001b[0m\u001b[0;34m.\u001b[0m\u001b[0msqueeze\u001b[0m\u001b[0;34m(\u001b[0m\u001b[0mimage\u001b[0m\u001b[0;34m)\u001b[0m\u001b[0;34m\u001b[0m\u001b[0;34m\u001b[0m\u001b[0m\n\u001b[1;32m     18\u001b[0m \u001b[0;31m# Calculate SSIM\u001b[0m\u001b[0;34m\u001b[0m\u001b[0;34m\u001b[0m\u001b[0m\n\u001b[0;32m---> 19\u001b[0;31m \u001b[0mssim_index\u001b[0m \u001b[0;34m=\u001b[0m \u001b[0mssim\u001b[0m\u001b[0;34m(\u001b[0m\u001b[0mnoisy_image\u001b[0m\u001b[0;34m,\u001b[0m \u001b[0mdenoised_image\u001b[0m\u001b[0;34m)\u001b[0m\u001b[0;34m\u001b[0m\u001b[0;34m\u001b[0m\u001b[0m\n\u001b[0m\u001b[1;32m     20\u001b[0m \u001b[0;34m\u001b[0m\u001b[0m\n\u001b[1;32m     21\u001b[0m \u001b[0;31m# Display the results\u001b[0m\u001b[0;34m\u001b[0m\u001b[0;34m\u001b[0m\u001b[0m\n",
            "\u001b[0;32m/usr/local/lib/python3.10/dist-packages/skimage/_shared/utils.py\u001b[0m in \u001b[0;36mfixed_func\u001b[0;34m(*args, **kwargs)\u001b[0m\n\u001b[1;32m    346\u001b[0m \u001b[0;34m\u001b[0m\u001b[0m\n\u001b[1;32m    347\u001b[0m             \u001b[0;31m# Call the function with the fixed arguments\u001b[0m\u001b[0;34m\u001b[0m\u001b[0;34m\u001b[0m\u001b[0m\n\u001b[0;32m--> 348\u001b[0;31m             \u001b[0;32mreturn\u001b[0m \u001b[0mfunc\u001b[0m\u001b[0;34m(\u001b[0m\u001b[0;34m*\u001b[0m\u001b[0margs\u001b[0m\u001b[0;34m,\u001b[0m \u001b[0;34m**\u001b[0m\u001b[0mkwargs\u001b[0m\u001b[0;34m)\u001b[0m\u001b[0;34m\u001b[0m\u001b[0;34m\u001b[0m\u001b[0m\n\u001b[0m\u001b[1;32m    349\u001b[0m \u001b[0;34m\u001b[0m\u001b[0m\n\u001b[1;32m    350\u001b[0m         \u001b[0;32mif\u001b[0m \u001b[0mfunc\u001b[0m\u001b[0;34m.\u001b[0m\u001b[0m__doc__\u001b[0m \u001b[0;32mis\u001b[0m \u001b[0;32mnot\u001b[0m \u001b[0;32mNone\u001b[0m\u001b[0;34m:\u001b[0m\u001b[0;34m\u001b[0m\u001b[0;34m\u001b[0m\u001b[0m\n",
            "\u001b[0;32m/usr/local/lib/python3.10/dist-packages/skimage/metrics/_structural_similarity.py\u001b[0m in \u001b[0;36mstructural_similarity\u001b[0;34m(im1, im2, win_size, gradient, data_range, channel_axis, multichannel, gaussian_weights, full, **kwargs)\u001b[0m\n\u001b[1;32m     99\u001b[0m \u001b[0;34m\u001b[0m\u001b[0m\n\u001b[1;32m    100\u001b[0m     \"\"\"\n\u001b[0;32m--> 101\u001b[0;31m     \u001b[0mcheck_shape_equality\u001b[0m\u001b[0;34m(\u001b[0m\u001b[0mim1\u001b[0m\u001b[0;34m,\u001b[0m \u001b[0mim2\u001b[0m\u001b[0;34m)\u001b[0m\u001b[0;34m\u001b[0m\u001b[0;34m\u001b[0m\u001b[0m\n\u001b[0m\u001b[1;32m    102\u001b[0m     \u001b[0mfloat_type\u001b[0m \u001b[0;34m=\u001b[0m \u001b[0m_supported_float_type\u001b[0m\u001b[0;34m(\u001b[0m\u001b[0mim1\u001b[0m\u001b[0;34m.\u001b[0m\u001b[0mdtype\u001b[0m\u001b[0;34m)\u001b[0m\u001b[0;34m\u001b[0m\u001b[0;34m\u001b[0m\u001b[0m\n\u001b[1;32m    103\u001b[0m \u001b[0;34m\u001b[0m\u001b[0m\n",
            "\u001b[0;32m/usr/local/lib/python3.10/dist-packages/skimage/_shared/utils.py\u001b[0m in \u001b[0;36mcheck_shape_equality\u001b[0;34m(im1, im2)\u001b[0m\n\u001b[1;32m    567\u001b[0m     \u001b[0;34m\"\"\"Raise an error if the shape do not match.\"\"\"\u001b[0m\u001b[0;34m\u001b[0m\u001b[0;34m\u001b[0m\u001b[0m\n\u001b[1;32m    568\u001b[0m     \u001b[0;32mif\u001b[0m \u001b[0;32mnot\u001b[0m \u001b[0mim1\u001b[0m\u001b[0;34m.\u001b[0m\u001b[0mshape\u001b[0m \u001b[0;34m==\u001b[0m \u001b[0mim2\u001b[0m\u001b[0;34m.\u001b[0m\u001b[0mshape\u001b[0m\u001b[0;34m:\u001b[0m\u001b[0;34m\u001b[0m\u001b[0;34m\u001b[0m\u001b[0m\n\u001b[0;32m--> 569\u001b[0;31m         \u001b[0;32mraise\u001b[0m \u001b[0mValueError\u001b[0m\u001b[0;34m(\u001b[0m\u001b[0;34m'Input images must have the same dimensions.'\u001b[0m\u001b[0;34m)\u001b[0m\u001b[0;34m\u001b[0m\u001b[0;34m\u001b[0m\u001b[0m\n\u001b[0m\u001b[1;32m    570\u001b[0m     \u001b[0;32mreturn\u001b[0m\u001b[0;34m\u001b[0m\u001b[0;34m\u001b[0m\u001b[0m\n\u001b[1;32m    571\u001b[0m \u001b[0;34m\u001b[0m\u001b[0m\n",
            "\u001b[0;31mValueError\u001b[0m: Input images must have the same dimensions."
          ]
        }
      ]
    }
  ],
  "metadata": {
    "colab": {
      "provenance": []
    },
    "kernelspec": {
      "display_name": "Python 3",
      "name": "python3"
    },
    "language_info": {
      "name": "python"
    }
  },
  "nbformat": 4,
  "nbformat_minor": 0
}